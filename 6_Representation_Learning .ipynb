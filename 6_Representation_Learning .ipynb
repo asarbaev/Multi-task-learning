{
 "cells": [
  {
   "cell_type": "code",
   "execution_count": null,
   "metadata": {
    "collapsed": true
   },
   "outputs": [],
   "source": [
    "import sys\n",
    "import csv\n",
    "import time\n",
    "import itertools\n",
    "import numpy as np\n",
    "import pandas as pd\n",
    "from tqdm import tqdm_notebook\n",
    "from sklearn import datasets\n",
    "import matplotlib.pyplot as plt \n",
    "from sklearn.metrics import f1_score\n",
    "from sklearn.feature_selection import RFE\n",
    "from sklearn.linear_model import LogisticRegression\n",
    "from sklearn.linear_model import LogisticRegressionCV\n",
    "from sklearn.model_selection import train_test_split\n",
    "from sklearn import model_selection\n",
    "from sklearn.model_selection import cross_val_score\n",
    "from sklearn.metrics import classification_report, confusion_matrix\n",
    "\n",
    "from sklearn import preprocessing\n",
    "from sklearn.preprocessing import StandardScaler\n",
    "from sklearn.preprocessing import MinMaxScaler\n",
    "from sklearn.preprocessing import Normalizer\n",
    "\n",
    "from sklearn.metrics import roc_curve, auc\n",
    "\n",
    "from random import randint\n",
    "import random\n",
    "import copy"
   ]
  },
  {
   "cell_type": "code",
   "execution_count": null,
   "metadata": {
    "collapsed": true
   },
   "outputs": [],
   "source": [
    "df=pd.read_csv('/Users/amirasarbaev/Downloads/Internship/data/test/5_time_line.csv',header=0,sep=',')\n",
    "df['week']=df.loc[:,\"week_click\":\"week_undisp\"].min(axis=1)"
   ]
  },
  {
   "cell_type": "code",
   "execution_count": null,
   "metadata": {
    "collapsed": true
   },
   "outputs": [],
   "source": [
    "col=[col for col in df.columns if col not in [\"week_click\",\"week_book\",\"week_reply\",\"week_undisp\"]]\n",
    "df=df[col]"
   ]
  },
  {
   "cell_type": "markdown",
   "metadata": {},
   "source": [
    "# Dataset Split based on displayed offers for target users and timeline"
   ]
  },
  {
   "cell_type": "code",
   "execution_count": null,
   "metadata": {
    "collapsed": true
   },
   "outputs": [],
   "source": [
    "user_list=np.unique(df.user_id)"
   ]
  },
  {
   "cell_type": "code",
   "execution_count": null,
   "metadata": {
    "collapsed": true
   },
   "outputs": [],
   "source": [
    "test=[]\n",
    "train=[]\n",
    "for i in tqdm_notebook(range(len(user_list))):\n",
    "    df_split = np.array_split(df[df.user_id==user_list[i]].sort_values(by='week'), 3)\n",
    "    train.append(list(df_split[0].index))\n",
    "    train.append(list(df_split[1].index))\n",
    "    test.append(list(df_split[2].index))\n",
    "    \n",
    "    "
   ]
  },
  {
   "cell_type": "code",
   "execution_count": null,
   "metadata": {
    "collapsed": true
   },
   "outputs": [],
   "source": [
    "train=list(itertools.chain(*train))\n",
    "test=list(itertools.chain(*test))\n",
    "\n",
    "X_train=df[df.index.isin(train)]\n",
    "X_test=df[df.index.isin(test)]\n",
    "\n",
    "X_train.set_index(['user_id','item_id'], inplace=True)\n",
    "X_test.set_index(['user_id','item_id'], inplace=True)\n",
    "\n",
    "Y_train_click=X_train.click\n",
    "Y_train_book=X_train.book\n",
    "Y_train_reply=X_train.reply\n",
    "Y_test_click=X_test.click\n",
    "Y_test_book=X_test.book\n",
    "Y_test_reply=X_test.reply\n",
    "col=[col for col in df.columns if col not in ['displayed','user_id','item_id',\"click\",\"book\",\"reply\",\"week\"]]\n",
    "X_train=X_train[col]\n",
    "X_test=X_test[col]"
   ]
  },
  {
   "cell_type": "markdown",
   "metadata": {},
   "source": [
    "# Dataset Normilization"
   ]
  },
  {
   "cell_type": "code",
   "execution_count": null,
   "metadata": {
    "collapsed": true,
    "scrolled": true
   },
   "outputs": [],
   "source": [
    "X_train = X_train.astype(np.float64)\n",
    "X_test = X_test.astype(np.float64)\n",
    "\n",
    "min_max_scaler = preprocessing.MinMaxScaler()\n",
    "X_train_minmax = min_max_scaler.fit_transform(X_train.iloc[:,15:])\n",
    "X_test_minmax = min_max_scaler.transform(X_test.iloc[:,15:])\n",
    "\n",
    "X_train_minmax = pd.DataFrame(X_train_minmax)\n",
    "X_test_minmax = pd.DataFrame(X_test_minmax)\n",
    "X_train_minmax.columns = X_train.iloc[:,15:].columns\n",
    "X_test_minmax.columns = X_test.iloc[:,15:].columns\n",
    "X_train_minmax.index = X_train.iloc[:,15:].index\n",
    "X_test_minmax.index = X_test.iloc[:,15:].index\n",
    "X_test_minmax"
   ]
  },
  {
   "cell_type": "code",
   "execution_count": null,
   "metadata": {
    "collapsed": true,
    "scrolled": true
   },
   "outputs": [],
   "source": [
    "sc=StandardScaler()\n",
    "sc.fit(X_train_minmax)\n",
    "X_train_std=sc.transform(X_train_minmax)\n",
    "X_test_std=sc.transform(X_test_minmax)\n",
    "\n",
    "X_train_std = pd.DataFrame(X_train_std)\n",
    "X_test_std = pd.DataFrame(X_test_std)\n",
    "X_train_std.columns = X_train.iloc[:,15:].columns\n",
    "X_test_std.columns = X_test.iloc[:,15:].columns\n",
    "X_train_std.index = X_train.iloc[:,15:].index\n",
    "X_test_std.index = X_test.iloc[:,15:].index\n",
    "X_test_std"
   ]
  },
  {
   "cell_type": "markdown",
   "metadata": {},
   "source": [
    "# Union of extracted features + normolized contextual"
   ]
  },
  {
   "cell_type": "code",
   "execution_count": null,
   "metadata": {
    "collapsed": true
   },
   "outputs": [],
   "source": [
    "U=np.unique(X_train_std.reset_index().user_id)\n",
    "I=np.unique(X_train_std.reset_index().item_id)"
   ]
  },
  {
   "cell_type": "code",
   "execution_count": null,
   "metadata": {
    "collapsed": true
   },
   "outputs": [],
   "source": [
    "from random import randint\n",
    "import random\n",
    "import copy\n",
    "def sample_floats(low, high, k=1):\n",
    "    \"\"\" Return a k-length list of unique random floats\n",
    "        in the range of low <= x <= high\n",
    "    \"\"\"\n",
    "    result = []\n",
    "    seen = set()\n",
    "    for i in range(k):\n",
    "        x = random.uniform(low, high)\n",
    "        while x in seen:\n",
    "            x = random.uniform(low, high)\n",
    "        seen.add(x)\n",
    "        result.append(x)\n",
    "    return result"
   ]
  },
  {
   "cell_type": "code",
   "execution_count": null,
   "metadata": {
    "collapsed": true
   },
   "outputs": [],
   "source": [
    "U_repr = {U[i]:[v for v in sample_floats(0,1,k=X_train.shape[1])] for i in range (len(U))}\n",
    "I_repr= {I[j]:[w for w in sample_floats(0,1,k=X_train.shape[1])] for j in range (len(I))}\n"
   ]
  },
  {
   "cell_type": "code",
   "execution_count": null,
   "metadata": {
    "collapsed": true
   },
   "outputs": [],
   "source": [
    "Y_train_click=Y_train_click.reset_index()\n",
    "Y_train_book=Y_train_book.reset_index()\n",
    "Y_train_reply=Y_train_reply.reset_index()\n",
    "X_train_std=X_train_std.reset_index()\n",
    "X_test_std=X_test_std.reset_index()\n",
    "Y_test_click=Y_test_click.reset_index()\n",
    "Y_test_book=Y_test_book.reset_index()\n",
    "Y_test_reply=Y_test_reply.reset_index()"
   ]
  },
  {
   "cell_type": "code",
   "execution_count": null,
   "metadata": {
    "collapsed": true
   },
   "outputs": [],
   "source": [
    "X_train_dict={}\n",
    "for i in tqdm_notebook(xrange(len(X_train_std))):\n",
    "    X_train_dict[X_train_std.user_id[i],X_train_std.item_id[i]]=X_train.iloc[i,:15].values.tolist()+\\\n",
    "    X_train_std.iloc[i,2:].values.tolist()\n",
    "#     +U_repr[X_train_std.user_id[i]]+I_repr[X_train_std.item_id[i]]"
   ]
  },
  {
   "cell_type": "code",
   "execution_count": null,
   "metadata": {
    "collapsed": true
   },
   "outputs": [],
   "source": [
    "Y_train_dict_click={}\n",
    "Y_train_dict_book={}\n",
    "Y_train_dict_reply={}\n",
    "for i in tqdm_notebook(xrange(len(Y_train_click))):\n",
    "    Y_train_dict_click[Y_train_click.user_id[i],Y_train_click.item_id[i]]=Y_train_click.iloc[i,2]\n",
    "    Y_train_dict_book[Y_train_book.user_id[i],Y_train_book.item_id[i]]=Y_train_book.iloc[i,2]\n",
    "    Y_train_dict_reply[Y_train_reply.user_id[i],Y_train_reply.item_id[i]]=Y_train_reply.iloc[i,2]\n",
    "    "
   ]
  },
  {
   "cell_type": "markdown",
   "metadata": {},
   "source": [
    "# Stochastic gradient descent"
   ]
  },
  {
   "cell_type": "code",
   "execution_count": 16,
   "metadata": {
    "collapsed": true
   },
   "outputs": [],
   "source": [
    "indx_dict={}\n",
    "for i in range(len(U)):\n",
    "    indx_dict[U[i]]=X_train_std[X_train_std.user_id==U[i]].iloc[:,:2].values.tolist()"
   ]
  },
  {
   "cell_type": "code",
   "execution_count": 20,
   "metadata": {
    "scrolled": true
   },
   "outputs": [
    {
     "data": {
      "application/vnd.jupyter.widget-view+json": {
       "model_id": "b0b23f68010c46ccbba1205f4a1920c9",
       "version_major": 2,
       "version_minor": 0
      },
      "text/plain": [
       "A Jupyter Widget"
      ]
     },
     "metadata": {},
     "output_type": "display_data"
    },
    {
     "name": "stdout",
     "output_type": "stream",
     "text": [
      "\n",
      "[1, 0, 0.85461669883173952]\n"
     ]
    },
    {
     "data": {
      "application/vnd.jupyter.widget-view+json": {
       "model_id": "e50a5cc919084f0688342d778755fee8",
       "version_major": 2,
       "version_minor": 0
      },
      "text/plain": [
       "A Jupyter Widget"
      ]
     },
     "metadata": {},
     "output_type": "display_data"
    },
    {
     "name": "stdout",
     "output_type": "stream",
     "text": [
      "\n",
      "[1, 0, 0.85461669883173952, 0.82340544674461991]\n"
     ]
    },
    {
     "data": {
      "application/vnd.jupyter.widget-view+json": {
       "model_id": "5a385e223c974e96ad252564df271149",
       "version_major": 2,
       "version_minor": 0
      },
      "text/plain": [
       "A Jupyter Widget"
      ]
     },
     "metadata": {},
     "output_type": "display_data"
    },
    {
     "name": "stdout",
     "output_type": "stream",
     "text": [
      "\n",
      "[1, 0, 0.85461669883173952, 0.82340544674461991, 0.79871025106486171]\n"
     ]
    },
    {
     "data": {
      "application/vnd.jupyter.widget-view+json": {
       "model_id": "ae6a87597eb644a5a16d9f78f7fb903b",
       "version_major": 2,
       "version_minor": 0
      },
      "text/plain": [
       "A Jupyter Widget"
      ]
     },
     "metadata": {},
     "output_type": "display_data"
    },
    {
     "name": "stdout",
     "output_type": "stream",
     "text": [
      "\n",
      "[1, 0, 0.85461669883173952, 0.82340544674461991, 0.79871025106486171, 0.78091310852991402]\n"
     ]
    },
    {
     "data": {
      "application/vnd.jupyter.widget-view+json": {
       "model_id": "63cce887accd4aa7b42fb13fbd426f3c",
       "version_major": 2,
       "version_minor": 0
      },
      "text/plain": [
       "A Jupyter Widget"
      ]
     },
     "metadata": {},
     "output_type": "display_data"
    },
    {
     "name": "stdout",
     "output_type": "stream",
     "text": [
      "\n",
      "[1, 0, 0.85461669883173952, 0.82340544674461991, 0.79871025106486171, 0.78091310852991402, 0.76417443244412597]\n"
     ]
    },
    {
     "data": {
      "application/vnd.jupyter.widget-view+json": {
       "model_id": "19ec287eabdb48fb853ed0570e87d78b",
       "version_major": 2,
       "version_minor": 0
      },
      "text/plain": [
       "A Jupyter Widget"
      ]
     },
     "metadata": {},
     "output_type": "display_data"
    },
    {
     "name": "stdout",
     "output_type": "stream",
     "text": [
      "\n",
      "[1, 0, 0.85461669883173952, 0.82340544674461991, 0.79871025106486171, 0.78091310852991402, 0.76417443244412597, 0.75204183165150185]\n"
     ]
    },
    {
     "data": {
      "application/vnd.jupyter.widget-view+json": {
       "model_id": "5ec17d66a0274a61bf09b35efa142097",
       "version_major": 2,
       "version_minor": 0
      },
      "text/plain": [
       "A Jupyter Widget"
      ]
     },
     "metadata": {},
     "output_type": "display_data"
    },
    {
     "name": "stdout",
     "output_type": "stream",
     "text": [
      "\n",
      "[1, 0, 0.85461669883173952, 0.82340544674461991, 0.79871025106486171, 0.78091310852991402, 0.76417443244412597, 0.75204183165150185, 0.73934713664312213]\n"
     ]
    },
    {
     "data": {
      "application/vnd.jupyter.widget-view+json": {
       "model_id": "91115282ba7243688c248bc3b02c747b",
       "version_major": 2,
       "version_minor": 0
      },
      "text/plain": [
       "A Jupyter Widget"
      ]
     },
     "metadata": {},
     "output_type": "display_data"
    },
    {
     "name": "stdout",
     "output_type": "stream",
     "text": [
      "\n",
      "[1, 0, 0.85461669883173952, 0.82340544674461991, 0.79871025106486171, 0.78091310852991402, 0.76417443244412597, 0.75204183165150185, 0.73934713664312213, 0.72930045976647007]\n"
     ]
    },
    {
     "data": {
      "application/vnd.jupyter.widget-view+json": {
       "model_id": "21a72fa75ec246cc890907b855987535",
       "version_major": 2,
       "version_minor": 0
      },
      "text/plain": [
       "A Jupyter Widget"
      ]
     },
     "metadata": {},
     "output_type": "display_data"
    },
    {
     "name": "stdout",
     "output_type": "stream",
     "text": [
      "\n",
      "[1, 0, 0.85461669883173952, 0.82340544674461991, 0.79871025106486171, 0.78091310852991402, 0.76417443244412597, 0.75204183165150185, 0.73934713664312213, 0.72930045976647007, 0.71952552293855443]\n"
     ]
    },
    {
     "data": {
      "application/vnd.jupyter.widget-view+json": {
       "model_id": "92464e193797435694482ee8753cc2ae",
       "version_major": 2,
       "version_minor": 0
      },
      "text/plain": [
       "A Jupyter Widget"
      ]
     },
     "metadata": {},
     "output_type": "display_data"
    },
    {
     "name": "stdout",
     "output_type": "stream",
     "text": [
      "\n",
      "[1, 0, 0.85461669883173952, 0.82340544674461991, 0.79871025106486171, 0.78091310852991402, 0.76417443244412597, 0.75204183165150185, 0.73934713664312213, 0.72930045976647007, 0.71952552293855443, 0.70950796700208763]\n"
     ]
    },
    {
     "data": {
      "application/vnd.jupyter.widget-view+json": {
       "model_id": "f0a2a99d5b774a14b1a41294cd21ff3a",
       "version_major": 2,
       "version_minor": 0
      },
      "text/plain": [
       "A Jupyter Widget"
      ]
     },
     "metadata": {},
     "output_type": "display_data"
    },
    {
     "name": "stdout",
     "output_type": "stream",
     "text": [
      "\n",
      "[1, 0, 0.85461669883173952, 0.82340544674461991, 0.79871025106486171, 0.78091310852991402, 0.76417443244412597, 0.75204183165150185, 0.73934713664312213, 0.72930045976647007, 0.71952552293855443, 0.70950796700208763, 0.70169630638808567]\n"
     ]
    },
    {
     "data": {
      "application/vnd.jupyter.widget-view+json": {
       "model_id": "28e9f1d21b4c4003a5404393e6ec278d",
       "version_major": 2,
       "version_minor": 0
      },
      "text/plain": [
       "A Jupyter Widget"
      ]
     },
     "metadata": {},
     "output_type": "display_data"
    },
    {
     "name": "stdout",
     "output_type": "stream",
     "text": [
      "\n",
      "[1, 0, 0.85461669883173952, 0.82340544674461991, 0.79871025106486171, 0.78091310852991402, 0.76417443244412597, 0.75204183165150185, 0.73934713664312213, 0.72930045976647007, 0.71952552293855443, 0.70950796700208763, 0.70169630638808567, 0.69430614497850052]\n"
     ]
    },
    {
     "data": {
      "application/vnd.jupyter.widget-view+json": {
       "model_id": "e553daa620464c95a0cec67fbe701324",
       "version_major": 2,
       "version_minor": 0
      },
      "text/plain": [
       "A Jupyter Widget"
      ]
     },
     "metadata": {},
     "output_type": "display_data"
    },
    {
     "name": "stdout",
     "output_type": "stream",
     "text": [
      "\n",
      "[1, 0, 0.85461669883173952, 0.82340544674461991, 0.79871025106486171, 0.78091310852991402, 0.76417443244412597, 0.75204183165150185, 0.73934713664312213, 0.72930045976647007, 0.71952552293855443, 0.70950796700208763, 0.70169630638808567, 0.69430614497850052, 0.68768133329795633]\n"
     ]
    },
    {
     "data": {
      "application/vnd.jupyter.widget-view+json": {
       "model_id": "3a5b196a2a4e4541a0fee679ba4bd62c",
       "version_major": 2,
       "version_minor": 0
      },
      "text/plain": [
       "A Jupyter Widget"
      ]
     },
     "metadata": {},
     "output_type": "display_data"
    },
    {
     "name": "stdout",
     "output_type": "stream",
     "text": [
      "\n",
      "[1, 0, 0.85461669883173952, 0.82340544674461991, 0.79871025106486171, 0.78091310852991402, 0.76417443244412597, 0.75204183165150185, 0.73934713664312213, 0.72930045976647007, 0.71952552293855443, 0.70950796700208763, 0.70169630638808567, 0.69430614497850052, 0.68768133329795633, 0.68056815260658388]\n"
     ]
    },
    {
     "data": {
      "application/vnd.jupyter.widget-view+json": {
       "model_id": "099eac74eb5046629770d7686ce55b6b",
       "version_major": 2,
       "version_minor": 0
      },
      "text/plain": [
       "A Jupyter Widget"
      ]
     },
     "metadata": {},
     "output_type": "display_data"
    },
    {
     "name": "stdout",
     "output_type": "stream",
     "text": [
      "\n",
      "[1, 0, 0.85461669883173952, 0.82340544674461991, 0.79871025106486171, 0.78091310852991402, 0.76417443244412597, 0.75204183165150185, 0.73934713664312213, 0.72930045976647007, 0.71952552293855443, 0.70950796700208763, 0.70169630638808567, 0.69430614497850052, 0.68768133329795633, 0.68056815260658388, 0.67609299324083594]\n"
     ]
    },
    {
     "data": {
      "application/vnd.jupyter.widget-view+json": {
       "model_id": "cd608d6c3ede4e98b25ab84f1c37a008",
       "version_major": 2,
       "version_minor": 0
      },
      "text/plain": [
       "A Jupyter Widget"
      ]
     },
     "metadata": {},
     "output_type": "display_data"
    },
    {
     "name": "stdout",
     "output_type": "stream",
     "text": [
      "\n",
      "[1, 0, 0.85461669883173952, 0.82340544674461991, 0.79871025106486171, 0.78091310852991402, 0.76417443244412597, 0.75204183165150185, 0.73934713664312213, 0.72930045976647007, 0.71952552293855443, 0.70950796700208763, 0.70169630638808567, 0.69430614497850052, 0.68768133329795633, 0.68056815260658388, 0.67609299324083594, 0.66841071586718503]\n"
     ]
    },
    {
     "data": {
      "application/vnd.jupyter.widget-view+json": {
       "model_id": "17c40f4c6535479ea19297a14ccbda9c",
       "version_major": 2,
       "version_minor": 0
      },
      "text/plain": [
       "A Jupyter Widget"
      ]
     },
     "metadata": {},
     "output_type": "display_data"
    },
    {
     "name": "stdout",
     "output_type": "stream",
     "text": [
      "\n",
      "[1, 0, 0.85461669883173952, 0.82340544674461991, 0.79871025106486171, 0.78091310852991402, 0.76417443244412597, 0.75204183165150185, 0.73934713664312213, 0.72930045976647007, 0.71952552293855443, 0.70950796700208763, 0.70169630638808567, 0.69430614497850052, 0.68768133329795633, 0.68056815260658388, 0.67609299324083594, 0.66841071586718503, 0.66333500543062807]\n"
     ]
    },
    {
     "data": {
      "application/vnd.jupyter.widget-view+json": {
       "model_id": "5236fdbad06e47daa8d8fe1f9028f8c3",
       "version_major": 2,
       "version_minor": 0
      },
      "text/plain": [
       "A Jupyter Widget"
      ]
     },
     "metadata": {},
     "output_type": "display_data"
    },
    {
     "name": "stdout",
     "output_type": "stream",
     "text": [
      "\n",
      "[1, 0, 0.85461669883173952, 0.82340544674461991, 0.79871025106486171, 0.78091310852991402, 0.76417443244412597, 0.75204183165150185, 0.73934713664312213, 0.72930045976647007, 0.71952552293855443, 0.70950796700208763, 0.70169630638808567, 0.69430614497850052, 0.68768133329795633, 0.68056815260658388, 0.67609299324083594, 0.66841071586718503, 0.66333500543062807, 0.65718641639994946]\n"
     ]
    },
    {
     "data": {
      "application/vnd.jupyter.widget-view+json": {
       "model_id": "7b299d2b1450499e886929c847b6210a",
       "version_major": 2,
       "version_minor": 0
      },
      "text/plain": [
       "A Jupyter Widget"
      ]
     },
     "metadata": {},
     "output_type": "display_data"
    },
    {
     "name": "stdout",
     "output_type": "stream",
     "text": [
      "\n",
      "[1, 0, 0.85461669883173952, 0.82340544674461991, 0.79871025106486171, 0.78091310852991402, 0.76417443244412597, 0.75204183165150185, 0.73934713664312213, 0.72930045976647007, 0.71952552293855443, 0.70950796700208763, 0.70169630638808567, 0.69430614497850052, 0.68768133329795633, 0.68056815260658388, 0.67609299324083594, 0.66841071586718503, 0.66333500543062807, 0.65718641639994946, 0.65196804609793546]\n"
     ]
    },
    {
     "data": {
      "application/vnd.jupyter.widget-view+json": {
       "model_id": "ad4e8fb6bfd7425d86d053fd848b8a2e",
       "version_major": 2,
       "version_minor": 0
      },
      "text/plain": [
       "A Jupyter Widget"
      ]
     },
     "metadata": {},
     "output_type": "display_data"
    },
    {
     "name": "stdout",
     "output_type": "stream",
     "text": [
      "\n",
      "[1, 0, 0.85461669883173952, 0.82340544674461991, 0.79871025106486171, 0.78091310852991402, 0.76417443244412597, 0.75204183165150185, 0.73934713664312213, 0.72930045976647007, 0.71952552293855443, 0.70950796700208763, 0.70169630638808567, 0.69430614497850052, 0.68768133329795633, 0.68056815260658388, 0.67609299324083594, 0.66841071586718503, 0.66333500543062807, 0.65718641639994946, 0.65196804609793546, 0.6462554107509485]\n"
     ]
    },
    {
     "data": {
      "application/vnd.jupyter.widget-view+json": {
       "model_id": "0d7d2583bb384814aaf70b2c094d7f39",
       "version_major": 2,
       "version_minor": 0
      },
      "text/plain": [
       "A Jupyter Widget"
      ]
     },
     "metadata": {},
     "output_type": "display_data"
    },
    {
     "name": "stdout",
     "output_type": "stream",
     "text": [
      "\n",
      "[1, 0, 0.85461669883173952, 0.82340544674461991, 0.79871025106486171, 0.78091310852991402, 0.76417443244412597, 0.75204183165150185, 0.73934713664312213, 0.72930045976647007, 0.71952552293855443, 0.70950796700208763, 0.70169630638808567, 0.69430614497850052, 0.68768133329795633, 0.68056815260658388, 0.67609299324083594, 0.66841071586718503, 0.66333500543062807, 0.65718641639994946, 0.65196804609793546, 0.6462554107509485, 0.64151847154766095]\n"
     ]
    },
    {
     "data": {
      "application/vnd.jupyter.widget-view+json": {
       "model_id": "208ca1af7aff43d19cf23e2ece7da6ea",
       "version_major": 2,
       "version_minor": 0
      },
      "text/plain": [
       "A Jupyter Widget"
      ]
     },
     "metadata": {},
     "output_type": "display_data"
    },
    {
     "name": "stdout",
     "output_type": "stream",
     "text": [
      "\n",
      "[1, 0, 0.85461669883173952, 0.82340544674461991, 0.79871025106486171, 0.78091310852991402, 0.76417443244412597, 0.75204183165150185, 0.73934713664312213, 0.72930045976647007, 0.71952552293855443, 0.70950796700208763, 0.70169630638808567, 0.69430614497850052, 0.68768133329795633, 0.68056815260658388, 0.67609299324083594, 0.66841071586718503, 0.66333500543062807, 0.65718641639994946, 0.65196804609793546, 0.6462554107509485, 0.64151847154766095, 0.63756396812294636]\n"
     ]
    },
    {
     "data": {
      "application/vnd.jupyter.widget-view+json": {
       "model_id": "f8060a76459944118384e070b0e1e0b3",
       "version_major": 2,
       "version_minor": 0
      },
      "text/plain": [
       "A Jupyter Widget"
      ]
     },
     "metadata": {},
     "output_type": "display_data"
    },
    {
     "name": "stdout",
     "output_type": "stream",
     "text": [
      "\n",
      "[1, 0, 0.85461669883173952, 0.82340544674461991, 0.79871025106486171, 0.78091310852991402, 0.76417443244412597, 0.75204183165150185, 0.73934713664312213, 0.72930045976647007, 0.71952552293855443, 0.70950796700208763, 0.70169630638808567, 0.69430614497850052, 0.68768133329795633, 0.68056815260658388, 0.67609299324083594, 0.66841071586718503, 0.66333500543062807, 0.65718641639994946, 0.65196804609793546, 0.6462554107509485, 0.64151847154766095, 0.63756396812294636, 0.63158944245303206]\n"
     ]
    },
    {
     "data": {
      "application/vnd.jupyter.widget-view+json": {
       "model_id": "f145df4241fa4c19bc27a5718cdb2bc1",
       "version_major": 2,
       "version_minor": 0
      },
      "text/plain": [
       "A Jupyter Widget"
      ]
     },
     "metadata": {},
     "output_type": "display_data"
    },
    {
     "name": "stdout",
     "output_type": "stream",
     "text": [
      "\n",
      "[1, 0, 0.85461669883173952, 0.82340544674461991, 0.79871025106486171, 0.78091310852991402, 0.76417443244412597, 0.75204183165150185, 0.73934713664312213, 0.72930045976647007, 0.71952552293855443, 0.70950796700208763, 0.70169630638808567, 0.69430614497850052, 0.68768133329795633, 0.68056815260658388, 0.67609299324083594, 0.66841071586718503, 0.66333500543062807, 0.65718641639994946, 0.65196804609793546, 0.6462554107509485, 0.64151847154766095, 0.63756396812294636, 0.63158944245303206, 0.62901966653068231]\n"
     ]
    },
    {
     "data": {
      "application/vnd.jupyter.widget-view+json": {
       "model_id": "2b868972933c4814b88d84b108f1cb1f",
       "version_major": 2,
       "version_minor": 0
      },
      "text/plain": [
       "A Jupyter Widget"
      ]
     },
     "metadata": {},
     "output_type": "display_data"
    },
    {
     "name": "stdout",
     "output_type": "stream",
     "text": [
      "\n",
      "[1, 0, 0.85461669883173952, 0.82340544674461991, 0.79871025106486171, 0.78091310852991402, 0.76417443244412597, 0.75204183165150185, 0.73934713664312213, 0.72930045976647007, 0.71952552293855443, 0.70950796700208763, 0.70169630638808567, 0.69430614497850052, 0.68768133329795633, 0.68056815260658388, 0.67609299324083594, 0.66841071586718503, 0.66333500543062807, 0.65718641639994946, 0.65196804609793546, 0.6462554107509485, 0.64151847154766095, 0.63756396812294636, 0.63158944245303206, 0.62901966653068231, 0.62587722356579611]\n"
     ]
    },
    {
     "data": {
      "application/vnd.jupyter.widget-view+json": {
       "model_id": "3541012cba0745fda484d7987ed31944",
       "version_major": 2,
       "version_minor": 0
      },
      "text/plain": [
       "A Jupyter Widget"
      ]
     },
     "metadata": {},
     "output_type": "display_data"
    },
    {
     "name": "stdout",
     "output_type": "stream",
     "text": [
      "\n",
      "[1, 0, 0.85461669883173952, 0.82340544674461991, 0.79871025106486171, 0.78091310852991402, 0.76417443244412597, 0.75204183165150185, 0.73934713664312213, 0.72930045976647007, 0.71952552293855443, 0.70950796700208763, 0.70169630638808567, 0.69430614497850052, 0.68768133329795633, 0.68056815260658388, 0.67609299324083594, 0.66841071586718503, 0.66333500543062807, 0.65718641639994946, 0.65196804609793546, 0.6462554107509485, 0.64151847154766095, 0.63756396812294636, 0.63158944245303206, 0.62901966653068231, 0.62587722356579611, 0.62258124094222989]\n"
     ]
    },
    {
     "data": {
      "application/vnd.jupyter.widget-view+json": {
       "model_id": "cc2534306d634f94884276bfaaca0dd6",
       "version_major": 2,
       "version_minor": 0
      },
      "text/plain": [
       "A Jupyter Widget"
      ]
     },
     "metadata": {},
     "output_type": "display_data"
    },
    {
     "name": "stdout",
     "output_type": "stream",
     "text": [
      "\n",
      "[1, 0, 0.85461669883173952, 0.82340544674461991, 0.79871025106486171, 0.78091310852991402, 0.76417443244412597, 0.75204183165150185, 0.73934713664312213, 0.72930045976647007, 0.71952552293855443, 0.70950796700208763, 0.70169630638808567, 0.69430614497850052, 0.68768133329795633, 0.68056815260658388, 0.67609299324083594, 0.66841071586718503, 0.66333500543062807, 0.65718641639994946, 0.65196804609793546, 0.6462554107509485, 0.64151847154766095, 0.63756396812294636, 0.63158944245303206, 0.62901966653068231, 0.62587722356579611, 0.62258124094222989, 0.61709815573054283]\n"
     ]
    },
    {
     "data": {
      "application/vnd.jupyter.widget-view+json": {
       "model_id": "4e42f11875a749b3b154d8c74d9136c0",
       "version_major": 2,
       "version_minor": 0
      },
      "text/plain": [
       "A Jupyter Widget"
      ]
     },
     "metadata": {},
     "output_type": "display_data"
    },
    {
     "name": "stdout",
     "output_type": "stream",
     "text": [
      "\n",
      "[1, 0, 0.85461669883173952, 0.82340544674461991, 0.79871025106486171, 0.78091310852991402, 0.76417443244412597, 0.75204183165150185, 0.73934713664312213, 0.72930045976647007, 0.71952552293855443, 0.70950796700208763, 0.70169630638808567, 0.69430614497850052, 0.68768133329795633, 0.68056815260658388, 0.67609299324083594, 0.66841071586718503, 0.66333500543062807, 0.65718641639994946, 0.65196804609793546, 0.6462554107509485, 0.64151847154766095, 0.63756396812294636, 0.63158944245303206, 0.62901966653068231, 0.62587722356579611, 0.62258124094222989, 0.61709815573054283, 0.61298050676264049]\n"
     ]
    },
    {
     "data": {
      "application/vnd.jupyter.widget-view+json": {
       "model_id": "521076da1ed74d7f88c5d0b780abfe73",
       "version_major": 2,
       "version_minor": 0
      },
      "text/plain": [
       "A Jupyter Widget"
      ]
     },
     "metadata": {},
     "output_type": "display_data"
    },
    {
     "name": "stdout",
     "output_type": "stream",
     "text": [
      "\n",
      "[1, 0, 0.85461669883173952, 0.82340544674461991, 0.79871025106486171, 0.78091310852991402, 0.76417443244412597, 0.75204183165150185, 0.73934713664312213, 0.72930045976647007, 0.71952552293855443, 0.70950796700208763, 0.70169630638808567, 0.69430614497850052, 0.68768133329795633, 0.68056815260658388, 0.67609299324083594, 0.66841071586718503, 0.66333500543062807, 0.65718641639994946, 0.65196804609793546, 0.6462554107509485, 0.64151847154766095, 0.63756396812294636, 0.63158944245303206, 0.62901966653068231, 0.62587722356579611, 0.62258124094222989, 0.61709815573054283, 0.61298050676264049, 0.61107353307596068]\n"
     ]
    },
    {
     "data": {
      "application/vnd.jupyter.widget-view+json": {
       "model_id": "b54cbbfc81d24c67acdf5883c61200ae",
       "version_major": 2,
       "version_minor": 0
      },
      "text/plain": [
       "A Jupyter Widget"
      ]
     },
     "metadata": {},
     "output_type": "display_data"
    },
    {
     "name": "stdout",
     "output_type": "stream",
     "text": [
      "\n",
      "[1, 0, 0.85461669883173952, 0.82340544674461991, 0.79871025106486171, 0.78091310852991402, 0.76417443244412597, 0.75204183165150185, 0.73934713664312213, 0.72930045976647007, 0.71952552293855443, 0.70950796700208763, 0.70169630638808567, 0.69430614497850052, 0.68768133329795633, 0.68056815260658388, 0.67609299324083594, 0.66841071586718503, 0.66333500543062807, 0.65718641639994946, 0.65196804609793546, 0.6462554107509485, 0.64151847154766095, 0.63756396812294636, 0.63158944245303206, 0.62901966653068231, 0.62587722356579611, 0.62258124094222989, 0.61709815573054283, 0.61298050676264049, 0.61107353307596068, 0.60796481725011842]\n"
     ]
    },
    {
     "data": {
      "application/vnd.jupyter.widget-view+json": {
       "model_id": "3657eb5acef74008982e6a034b452381",
       "version_major": 2,
       "version_minor": 0
      },
      "text/plain": [
       "A Jupyter Widget"
      ]
     },
     "metadata": {},
     "output_type": "display_data"
    },
    {
     "name": "stdout",
     "output_type": "stream",
     "text": [
      "\n",
      "[1, 0, 0.85461669883173952, 0.82340544674461991, 0.79871025106486171, 0.78091310852991402, 0.76417443244412597, 0.75204183165150185, 0.73934713664312213, 0.72930045976647007, 0.71952552293855443, 0.70950796700208763, 0.70169630638808567, 0.69430614497850052, 0.68768133329795633, 0.68056815260658388, 0.67609299324083594, 0.66841071586718503, 0.66333500543062807, 0.65718641639994946, 0.65196804609793546, 0.6462554107509485, 0.64151847154766095, 0.63756396812294636, 0.63158944245303206, 0.62901966653068231, 0.62587722356579611, 0.62258124094222989, 0.61709815573054283, 0.61298050676264049, 0.61107353307596068, 0.60796481725011842, 0.60267716063347465]\n"
     ]
    },
    {
     "data": {
      "application/vnd.jupyter.widget-view+json": {
       "model_id": "45472bc80d2245e39fccf88f37b54b62",
       "version_major": 2,
       "version_minor": 0
      },
      "text/plain": [
       "A Jupyter Widget"
      ]
     },
     "metadata": {},
     "output_type": "display_data"
    },
    {
     "name": "stdout",
     "output_type": "stream",
     "text": [
      "\n",
      "[1, 0, 0.85461669883173952, 0.82340544674461991, 0.79871025106486171, 0.78091310852991402, 0.76417443244412597, 0.75204183165150185, 0.73934713664312213, 0.72930045976647007, 0.71952552293855443, 0.70950796700208763, 0.70169630638808567, 0.69430614497850052, 0.68768133329795633, 0.68056815260658388, 0.67609299324083594, 0.66841071586718503, 0.66333500543062807, 0.65718641639994946, 0.65196804609793546, 0.6462554107509485, 0.64151847154766095, 0.63756396812294636, 0.63158944245303206, 0.62901966653068231, 0.62587722356579611, 0.62258124094222989, 0.61709815573054283, 0.61298050676264049, 0.61107353307596068, 0.60796481725011842, 0.60267716063347465, 0.60184513962184438]\n"
     ]
    }
   ],
   "source": [
    "#Inputs:\n",
    "eta=0.0001\n",
    "eps=1e-3\n",
    "lamb=1e-3\n",
    "nb_runs = 600000\n",
    "#Initialization:\n",
    "\n",
    "global_loss = [1,0]\n",
    "nb=1\n",
    "while abs(global_loss[nb-1]-global_loss[nb])>eps:\n",
    "    loss_local=0\n",
    "    for j in tqdm_notebook(range(nb_runs)):\n",
    "        u = randint(0,len(U)-1)\n",
    "        \n",
    "        target_samples=indx_dict[U[u]]\n",
    "        target_lables=[Y_train_dict_click[tuple(elem)] for elem in target_samples]\n",
    "        positive=[target_samples[m] for m in [l for l, e in enumerate(target_lables) if e != 0]]\n",
    "        negative=[target_samples[m] for m in [l for l, e in enumerate(target_lables) if e == 0]]\n",
    "\n",
    "        if (len(positive)!=0 and len(negative)!=0): \n",
    "\n",
    "            p=randint(0, len(positive)-1)\n",
    "            n=randint(0, len(negative)-1)\n",
    "\n",
    "            user=U_repr[U[u]]\n",
    "            item_plus = I_repr[positive[p][1]]\n",
    "            item_minus = I_repr[negative[n][1]]\n",
    "            \n",
    "            diff=(np.array(item_minus) - np.array(item_plus)).tolist()\n",
    "            ex=np.exp(np.dot(user,diff))\n",
    "            dl_4_user =  diff / ( 1 + (1. / ex ) )\n",
    "            dl_4_item_plus = ( (-1) * np.array( user ) ) / ( 1 + (1. / ex ) )\n",
    "            dl_4_item_minus = ( user ) / ( 1 + (1. / ex ) )\n",
    "\n",
    "                \n",
    "            user = user - eta * ( ( dl_4_user ) + ( 2 * lamb * np.sum( user ) ) ) \n",
    "\n",
    "            item_plus = item_plus - eta * ( ( dl_4_item_plus ) + ( 2 * lamb * np.sum( item_plus ) ) )\n",
    "\n",
    "            item_minus = item_minus - eta * ( ( dl_4_item_minus ) + ( 2 * lamb *np.sum( item_minus ) ) )\n",
    "\n",
    "            loss_local=loss_local+(np.log( 1. + ex))+\\\n",
    "            lamb*(np.linalg.norm(user,2)**2+np.linalg.norm(item_plus,2)**2+np.linalg.norm(item_minus,2)**2)\n",
    "\n",
    "            U_repr[U[u]]=user.tolist()\n",
    "            I_repr[positive[p][1]]=item_plus.tolist()\n",
    "            I_repr[negative[n][1]]=item_minus.tolist()\n",
    "\n",
    "    global_loss.append(loss_local/nb_runs)\n",
    "    nb+=1\n",
    "    print(global_loss)\n",
    "\n",
    "        \n",
    "        \n"
   ]
  },
  {
   "cell_type": "markdown",
   "metadata": {},
   "source": [
    "# Ranking"
   ]
  },
  {
   "cell_type": "code",
   "execution_count": 21,
   "metadata": {
    "collapsed": true
   },
   "outputs": [],
   "source": [
    "U_pandas=pd.DataFrame(U_repr.items())\n",
    "I_pandas=pd.DataFrame(I_repr.items())"
   ]
  },
  {
   "cell_type": "code",
   "execution_count": 22,
   "metadata": {
    "collapsed": true
   },
   "outputs": [],
   "source": [
    "U_pandas=U_pandas.set_index(0)\n",
    "U_pandas.index.name=\"user_id\"\n",
    "I_pandas=I_pandas.set_index(0)\n",
    "I_pandas.index.name=\"item_id\""
   ]
  },
  {
   "cell_type": "code",
   "execution_count": 23,
   "metadata": {
    "collapsed": true
   },
   "outputs": [],
   "source": [
    "U_pandas=U_pandas[1].apply(pd.Series)\n",
    "cols=['U_'+str(i) for i in range (31)]\n",
    "U_pandas.columns=cols"
   ]
  },
  {
   "cell_type": "code",
   "execution_count": 24,
   "metadata": {
    "collapsed": true
   },
   "outputs": [],
   "source": [
    "I_pandas=I_pandas[1].apply(pd.Series)\n",
    "cols=['I_'+str(i) for i in range (31)]\n",
    "I_pandas.columns=cols"
   ]
  },
  {
   "cell_type": "code",
   "execution_count": 25,
   "metadata": {
    "collapsed": true
   },
   "outputs": [],
   "source": [
    "X_final=X_test_std"
   ]
  },
  {
   "cell_type": "code",
   "execution_count": 26,
   "metadata": {
    "collapsed": true
   },
   "outputs": [],
   "source": [
    "I_test=np.unique(X_test_std.item_id)\n",
    "main_list = np.setdiff1d(I_test,I)\n",
    "random_items={}\n",
    "for i in range(len (main_list)):\n",
    "    random_items[main_list[i]]=[v for v in sample_floats(0,1,k=31)]\n",
    "    \n",
    "    \n",
    "    "
   ]
  },
  {
   "cell_type": "code",
   "execution_count": 27,
   "metadata": {},
   "outputs": [
    {
     "data": {
      "application/vnd.jupyter.widget-view+json": {
       "model_id": "5d4ac192a95e4f019260ef3f5acf2182",
       "version_major": 2,
       "version_minor": 0
      },
      "text/plain": [
       "A Jupyter Widget"
      ]
     },
     "metadata": {},
     "output_type": "display_data"
    },
    {
     "name": "stdout",
     "output_type": "stream",
     "text": [
      "\n"
     ]
    }
   ],
   "source": [
    "pd_scores=[]\n",
    "for i in tqdm_notebook(range(len(X_final))):\n",
    "    try:\n",
    "        pd_scores.append(np.dot(U_pandas[U_pandas.index==X_final.iloc[i,0]].values.tolist()[0],\\\n",
    "                    I_pandas[I_pandas.index==X_final.iloc[i,1]].values.tolist()[0]))\n",
    "    except:\n",
    "        pd_scores.append(np.dot(U_pandas[U_pandas.index==X_final.iloc[i,0]].values.tolist()[0],\\\n",
    "                    random_items[X_final.iloc[i,1]]))"
   ]
  },
  {
   "cell_type": "code",
   "execution_count": 28,
   "metadata": {
    "collapsed": true
   },
   "outputs": [],
   "source": [
    "X_final['scores']=pd_scores\n",
    "X_final=pd.merge(X_final,Y_test_click,how='left',on=['user_id','item_id'])"
   ]
  },
  {
   "cell_type": "code",
   "execution_count": 37,
   "metadata": {},
   "outputs": [
    {
     "data": {
      "application/vnd.jupyter.widget-view+json": {
       "model_id": "3eeda0a8994f45818e5101b4f930c3f0",
       "version_major": 2,
       "version_minor": 0
      },
      "text/plain": [
       "A Jupyter Widget"
      ]
     },
     "metadata": {},
     "output_type": "display_data"
    },
    {
     "name": "stdout",
     "output_type": "stream",
     "text": [
      "\n"
     ]
    },
    {
     "data": {
      "text/plain": [
       "0.35400403429147759"
      ]
     },
     "execution_count": 37,
     "metadata": {},
     "output_type": "execute_result"
    }
   ],
   "source": [
    "k=5\n",
    "total_map=[]\n",
    "for i in tqdm_notebook(range (len(U))):\n",
    "    target_list=X_final[X_final.user_id==U[i]].sort_values(by='scores',ascending=False)\n",
    "    #     target_list=target_list[target_list.Y_test==1]\n",
    "    up=1\n",
    "    down=1\n",
    "    precision=[]\n",
    "    for j,score in enumerate(target_list.click[:k].values.tolist()):\n",
    "        if score!=0:\n",
    "            precision.append(float(up)/float(down+j))\n",
    "            up+=1\n",
    "        else:\n",
    "            precision.append(0)\n",
    "    total_map.append(np.sum(precision[0:k])/k)\n",
    "np.mean(total_map)"
   ]
  },
  {
   "cell_type": "markdown",
   "metadata": {},
   "source": [
    "# Classification"
   ]
  },
  {
   "cell_type": "code",
   "execution_count": 30,
   "metadata": {},
   "outputs": [
    {
     "data": {
      "application/vnd.jupyter.widget-view+json": {
       "model_id": "85de70b26e334fefa1dfe1027d6346db",
       "version_major": 2,
       "version_minor": 0
      },
      "text/plain": [
       "A Jupyter Widget"
      ]
     },
     "metadata": {},
     "output_type": "display_data"
    },
    {
     "name": "stdout",
     "output_type": "stream",
     "text": [
      "\n"
     ]
    }
   ],
   "source": [
    "Class_train={}\n",
    "for i in tqdm_notebook(range(len(X_train_std))):\n",
    "        Class_train[X_train_std.user_id[i],X_train_std.item_id[i]]=U_repr[X_train_std.user_id[i]]+\\\n",
    "        I_repr[X_train_std.item_id[i]]\n",
    "#         +list(Y_train_click[(Y_train_click.user_id==X_train_std.user_id[i])&(Y_train_click.item_id==X_train_std.item_id[i])].click)\n"
   ]
  },
  {
   "cell_type": "code",
   "execution_count": 31,
   "metadata": {
    "collapsed": true
   },
   "outputs": [],
   "source": [
    "Class_train=pd.DataFrame(Class_train.items())\n",
    "col=[\"U_repr_\"+str(i) for i in range(31)]+[\"I_repr_\"+str(i) for i in range(31)]"
   ]
  },
  {
   "cell_type": "code",
   "execution_count": 32,
   "metadata": {
    "collapsed": true
   },
   "outputs": [],
   "source": [
    "Class_train[['user_id','item_id']] = pd.DataFrame(Class_train[0].values.tolist(), index= Class_train.index)"
   ]
  },
  {
   "cell_type": "code",
   "execution_count": 33,
   "metadata": {
    "scrolled": true
   },
   "outputs": [
    {
     "data": {
      "text/html": [
       "<div>\n",
       "<style>\n",
       "    .dataframe thead tr:only-child th {\n",
       "        text-align: right;\n",
       "    }\n",
       "\n",
       "    .dataframe thead th {\n",
       "        text-align: left;\n",
       "    }\n",
       "\n",
       "    .dataframe tbody tr th {\n",
       "        vertical-align: top;\n",
       "    }\n",
       "</style>\n",
       "<table border=\"1\" class=\"dataframe\">\n",
       "  <thead>\n",
       "    <tr style=\"text-align: right;\">\n",
       "      <th></th>\n",
       "      <th>U_repr_0</th>\n",
       "      <th>U_repr_1</th>\n",
       "      <th>U_repr_2</th>\n",
       "      <th>U_repr_3</th>\n",
       "      <th>U_repr_4</th>\n",
       "      <th>U_repr_5</th>\n",
       "      <th>U_repr_6</th>\n",
       "      <th>U_repr_7</th>\n",
       "      <th>U_repr_8</th>\n",
       "      <th>U_repr_9</th>\n",
       "      <th>...</th>\n",
       "      <th>I_repr_21</th>\n",
       "      <th>I_repr_22</th>\n",
       "      <th>I_repr_23</th>\n",
       "      <th>I_repr_24</th>\n",
       "      <th>I_repr_25</th>\n",
       "      <th>I_repr_26</th>\n",
       "      <th>I_repr_27</th>\n",
       "      <th>I_repr_28</th>\n",
       "      <th>I_repr_29</th>\n",
       "      <th>I_repr_30</th>\n",
       "    </tr>\n",
       "  </thead>\n",
       "  <tbody>\n",
       "    <tr>\n",
       "      <th>0</th>\n",
       "      <td>0.285530</td>\n",
       "      <td>0.451673</td>\n",
       "      <td>0.415204</td>\n",
       "      <td>0.794095</td>\n",
       "      <td>0.198871</td>\n",
       "      <td>0.281770</td>\n",
       "      <td>0.813397</td>\n",
       "      <td>0.973086</td>\n",
       "      <td>0.050642</td>\n",
       "      <td>0.776217</td>\n",
       "      <td>...</td>\n",
       "      <td>0.519292</td>\n",
       "      <td>0.051649</td>\n",
       "      <td>0.607856</td>\n",
       "      <td>0.688086</td>\n",
       "      <td>0.181325</td>\n",
       "      <td>0.039791</td>\n",
       "      <td>0.537033</td>\n",
       "      <td>0.635758</td>\n",
       "      <td>0.373915</td>\n",
       "      <td>0.784999</td>\n",
       "    </tr>\n",
       "    <tr>\n",
       "      <th>1</th>\n",
       "      <td>0.895104</td>\n",
       "      <td>0.280017</td>\n",
       "      <td>0.527172</td>\n",
       "      <td>0.145700</td>\n",
       "      <td>0.620958</td>\n",
       "      <td>0.744842</td>\n",
       "      <td>0.943090</td>\n",
       "      <td>0.353378</td>\n",
       "      <td>0.718098</td>\n",
       "      <td>0.909792</td>\n",
       "      <td>...</td>\n",
       "      <td>0.715712</td>\n",
       "      <td>0.272394</td>\n",
       "      <td>0.702153</td>\n",
       "      <td>0.448264</td>\n",
       "      <td>-0.025882</td>\n",
       "      <td>0.203838</td>\n",
       "      <td>0.724286</td>\n",
       "      <td>0.531448</td>\n",
       "      <td>0.034788</td>\n",
       "      <td>0.644715</td>\n",
       "    </tr>\n",
       "    <tr>\n",
       "      <th>2</th>\n",
       "      <td>0.987992</td>\n",
       "      <td>0.891092</td>\n",
       "      <td>0.311056</td>\n",
       "      <td>0.378921</td>\n",
       "      <td>0.573891</td>\n",
       "      <td>0.409485</td>\n",
       "      <td>0.934201</td>\n",
       "      <td>0.901214</td>\n",
       "      <td>0.780850</td>\n",
       "      <td>0.206379</td>\n",
       "      <td>...</td>\n",
       "      <td>0.175539</td>\n",
       "      <td>0.980366</td>\n",
       "      <td>0.067079</td>\n",
       "      <td>0.221175</td>\n",
       "      <td>0.780759</td>\n",
       "      <td>0.858320</td>\n",
       "      <td>0.645577</td>\n",
       "      <td>0.628580</td>\n",
       "      <td>0.570290</td>\n",
       "      <td>0.923085</td>\n",
       "    </tr>\n",
       "    <tr>\n",
       "      <th>3</th>\n",
       "      <td>0.564819</td>\n",
       "      <td>0.768071</td>\n",
       "      <td>0.655653</td>\n",
       "      <td>0.887160</td>\n",
       "      <td>0.396261</td>\n",
       "      <td>0.694480</td>\n",
       "      <td>0.246989</td>\n",
       "      <td>0.467233</td>\n",
       "      <td>0.795600</td>\n",
       "      <td>0.707143</td>\n",
       "      <td>...</td>\n",
       "      <td>0.099362</td>\n",
       "      <td>0.324966</td>\n",
       "      <td>0.342550</td>\n",
       "      <td>0.183293</td>\n",
       "      <td>0.860795</td>\n",
       "      <td>0.355197</td>\n",
       "      <td>0.818201</td>\n",
       "      <td>0.642858</td>\n",
       "      <td>0.734898</td>\n",
       "      <td>0.806569</td>\n",
       "    </tr>\n",
       "    <tr>\n",
       "      <th>4</th>\n",
       "      <td>0.703309</td>\n",
       "      <td>0.300677</td>\n",
       "      <td>0.472421</td>\n",
       "      <td>0.121662</td>\n",
       "      <td>0.847579</td>\n",
       "      <td>0.137306</td>\n",
       "      <td>0.450844</td>\n",
       "      <td>0.920108</td>\n",
       "      <td>0.425148</td>\n",
       "      <td>0.685081</td>\n",
       "      <td>...</td>\n",
       "      <td>0.587688</td>\n",
       "      <td>0.230815</td>\n",
       "      <td>0.343582</td>\n",
       "      <td>0.875288</td>\n",
       "      <td>0.379667</td>\n",
       "      <td>-0.033253</td>\n",
       "      <td>0.603276</td>\n",
       "      <td>0.749696</td>\n",
       "      <td>-0.019381</td>\n",
       "      <td>0.844270</td>\n",
       "    </tr>\n",
       "    <tr>\n",
       "      <th>5</th>\n",
       "      <td>0.579626</td>\n",
       "      <td>0.164982</td>\n",
       "      <td>0.826982</td>\n",
       "      <td>0.611158</td>\n",
       "      <td>0.105044</td>\n",
       "      <td>0.542491</td>\n",
       "      <td>0.532569</td>\n",
       "      <td>0.142549</td>\n",
       "      <td>0.251473</td>\n",
       "      <td>0.853334</td>\n",
       "      <td>...</td>\n",
       "      <td>0.435556</td>\n",
       "      <td>0.666825</td>\n",
       "      <td>0.239913</td>\n",
       "      <td>0.293641</td>\n",
       "      <td>0.293746</td>\n",
       "      <td>0.511353</td>\n",
       "      <td>0.326978</td>\n",
       "      <td>0.618164</td>\n",
       "      <td>0.376432</td>\n",
       "      <td>0.695856</td>\n",
       "    </tr>\n",
       "    <tr>\n",
       "      <th>6</th>\n",
       "      <td>0.955736</td>\n",
       "      <td>0.203920</td>\n",
       "      <td>0.760478</td>\n",
       "      <td>0.561193</td>\n",
       "      <td>0.647169</td>\n",
       "      <td>0.633946</td>\n",
       "      <td>0.594385</td>\n",
       "      <td>0.512058</td>\n",
       "      <td>0.296685</td>\n",
       "      <td>0.468960</td>\n",
       "      <td>...</td>\n",
       "      <td>0.557436</td>\n",
       "      <td>0.879699</td>\n",
       "      <td>0.358299</td>\n",
       "      <td>0.118096</td>\n",
       "      <td>0.785606</td>\n",
       "      <td>0.945393</td>\n",
       "      <td>0.126177</td>\n",
       "      <td>0.061572</td>\n",
       "      <td>0.506879</td>\n",
       "      <td>0.558122</td>\n",
       "    </tr>\n",
       "    <tr>\n",
       "      <th>7</th>\n",
       "      <td>0.084902</td>\n",
       "      <td>0.102463</td>\n",
       "      <td>0.174672</td>\n",
       "      <td>0.743350</td>\n",
       "      <td>0.843741</td>\n",
       "      <td>0.659644</td>\n",
       "      <td>0.349264</td>\n",
       "      <td>0.693726</td>\n",
       "      <td>0.377027</td>\n",
       "      <td>0.673582</td>\n",
       "      <td>...</td>\n",
       "      <td>0.779821</td>\n",
       "      <td>0.702709</td>\n",
       "      <td>-0.020214</td>\n",
       "      <td>0.580304</td>\n",
       "      <td>0.874335</td>\n",
       "      <td>0.651586</td>\n",
       "      <td>-0.050605</td>\n",
       "      <td>0.350931</td>\n",
       "      <td>0.263674</td>\n",
       "      <td>0.331525</td>\n",
       "    </tr>\n",
       "    <tr>\n",
       "      <th>8</th>\n",
       "      <td>0.781435</td>\n",
       "      <td>0.348019</td>\n",
       "      <td>0.048853</td>\n",
       "      <td>0.901837</td>\n",
       "      <td>0.786121</td>\n",
       "      <td>0.470513</td>\n",
       "      <td>0.703930</td>\n",
       "      <td>0.435168</td>\n",
       "      <td>0.951768</td>\n",
       "      <td>0.736976</td>\n",
       "      <td>...</td>\n",
       "      <td>0.517617</td>\n",
       "      <td>0.105384</td>\n",
       "      <td>0.631562</td>\n",
       "      <td>0.919217</td>\n",
       "      <td>0.153353</td>\n",
       "      <td>0.367011</td>\n",
       "      <td>0.752438</td>\n",
       "      <td>0.980166</td>\n",
       "      <td>0.084884</td>\n",
       "      <td>0.075941</td>\n",
       "    </tr>\n",
       "    <tr>\n",
       "      <th>9</th>\n",
       "      <td>0.369227</td>\n",
       "      <td>0.599645</td>\n",
       "      <td>0.382662</td>\n",
       "      <td>0.419308</td>\n",
       "      <td>0.197116</td>\n",
       "      <td>0.236051</td>\n",
       "      <td>0.518794</td>\n",
       "      <td>0.118112</td>\n",
       "      <td>0.936949</td>\n",
       "      <td>0.344386</td>\n",
       "      <td>...</td>\n",
       "      <td>0.245170</td>\n",
       "      <td>0.083046</td>\n",
       "      <td>0.334397</td>\n",
       "      <td>0.985642</td>\n",
       "      <td>0.563998</td>\n",
       "      <td>0.699906</td>\n",
       "      <td>0.226575</td>\n",
       "      <td>0.211909</td>\n",
       "      <td>0.874451</td>\n",
       "      <td>0.945193</td>\n",
       "    </tr>\n",
       "    <tr>\n",
       "      <th>10</th>\n",
       "      <td>0.000853</td>\n",
       "      <td>0.545016</td>\n",
       "      <td>0.695363</td>\n",
       "      <td>0.628047</td>\n",
       "      <td>0.961688</td>\n",
       "      <td>0.979590</td>\n",
       "      <td>0.226776</td>\n",
       "      <td>0.521985</td>\n",
       "      <td>0.472451</td>\n",
       "      <td>0.447735</td>\n",
       "      <td>...</td>\n",
       "      <td>0.670680</td>\n",
       "      <td>0.175400</td>\n",
       "      <td>0.110496</td>\n",
       "      <td>0.553050</td>\n",
       "      <td>0.369083</td>\n",
       "      <td>0.787028</td>\n",
       "      <td>0.360520</td>\n",
       "      <td>0.027672</td>\n",
       "      <td>-0.056266</td>\n",
       "      <td>0.694839</td>\n",
       "    </tr>\n",
       "    <tr>\n",
       "      <th>11</th>\n",
       "      <td>0.581430</td>\n",
       "      <td>0.228949</td>\n",
       "      <td>0.979219</td>\n",
       "      <td>0.172007</td>\n",
       "      <td>0.669594</td>\n",
       "      <td>0.482945</td>\n",
       "      <td>0.804302</td>\n",
       "      <td>0.885226</td>\n",
       "      <td>0.003855</td>\n",
       "      <td>0.274819</td>\n",
       "      <td>...</td>\n",
       "      <td>0.857626</td>\n",
       "      <td>0.752867</td>\n",
       "      <td>0.828243</td>\n",
       "      <td>0.331839</td>\n",
       "      <td>0.193142</td>\n",
       "      <td>0.354904</td>\n",
       "      <td>0.374091</td>\n",
       "      <td>0.443754</td>\n",
       "      <td>0.656157</td>\n",
       "      <td>0.039830</td>\n",
       "    </tr>\n",
       "    <tr>\n",
       "      <th>12</th>\n",
       "      <td>0.888106</td>\n",
       "      <td>0.019057</td>\n",
       "      <td>0.440230</td>\n",
       "      <td>0.738180</td>\n",
       "      <td>0.717286</td>\n",
       "      <td>0.373661</td>\n",
       "      <td>0.460589</td>\n",
       "      <td>0.223318</td>\n",
       "      <td>0.734350</td>\n",
       "      <td>0.149364</td>\n",
       "      <td>...</td>\n",
       "      <td>0.603584</td>\n",
       "      <td>0.755701</td>\n",
       "      <td>0.146153</td>\n",
       "      <td>0.045827</td>\n",
       "      <td>0.364775</td>\n",
       "      <td>0.635664</td>\n",
       "      <td>-0.059590</td>\n",
       "      <td>0.786571</td>\n",
       "      <td>0.280036</td>\n",
       "      <td>-0.001525</td>\n",
       "    </tr>\n",
       "    <tr>\n",
       "      <th>13</th>\n",
       "      <td>0.459817</td>\n",
       "      <td>0.472166</td>\n",
       "      <td>0.504729</td>\n",
       "      <td>0.537618</td>\n",
       "      <td>0.877590</td>\n",
       "      <td>0.698588</td>\n",
       "      <td>0.547978</td>\n",
       "      <td>0.432299</td>\n",
       "      <td>0.482475</td>\n",
       "      <td>0.609125</td>\n",
       "      <td>...</td>\n",
       "      <td>0.712982</td>\n",
       "      <td>0.706130</td>\n",
       "      <td>0.699950</td>\n",
       "      <td>0.098800</td>\n",
       "      <td>0.651457</td>\n",
       "      <td>0.658877</td>\n",
       "      <td>0.666513</td>\n",
       "      <td>-0.182550</td>\n",
       "      <td>0.269128</td>\n",
       "      <td>0.683456</td>\n",
       "    </tr>\n",
       "    <tr>\n",
       "      <th>14</th>\n",
       "      <td>0.370628</td>\n",
       "      <td>0.859694</td>\n",
       "      <td>0.738025</td>\n",
       "      <td>0.917057</td>\n",
       "      <td>0.857657</td>\n",
       "      <td>0.871170</td>\n",
       "      <td>0.039202</td>\n",
       "      <td>0.715858</td>\n",
       "      <td>0.843194</td>\n",
       "      <td>0.091820</td>\n",
       "      <td>...</td>\n",
       "      <td>0.232359</td>\n",
       "      <td>0.522436</td>\n",
       "      <td>0.732247</td>\n",
       "      <td>0.548842</td>\n",
       "      <td>0.594630</td>\n",
       "      <td>0.750851</td>\n",
       "      <td>0.107848</td>\n",
       "      <td>0.380144</td>\n",
       "      <td>0.618753</td>\n",
       "      <td>0.830713</td>\n",
       "    </tr>\n",
       "    <tr>\n",
       "      <th>15</th>\n",
       "      <td>0.756615</td>\n",
       "      <td>0.563073</td>\n",
       "      <td>0.829340</td>\n",
       "      <td>0.922867</td>\n",
       "      <td>0.138236</td>\n",
       "      <td>0.868290</td>\n",
       "      <td>0.129141</td>\n",
       "      <td>1.009829</td>\n",
       "      <td>0.064651</td>\n",
       "      <td>0.354707</td>\n",
       "      <td>...</td>\n",
       "      <td>0.399838</td>\n",
       "      <td>0.578754</td>\n",
       "      <td>0.029583</td>\n",
       "      <td>0.661569</td>\n",
       "      <td>0.957175</td>\n",
       "      <td>0.182269</td>\n",
       "      <td>0.249927</td>\n",
       "      <td>0.917784</td>\n",
       "      <td>0.545194</td>\n",
       "      <td>0.872307</td>\n",
       "    </tr>\n",
       "    <tr>\n",
       "      <th>16</th>\n",
       "      <td>0.261126</td>\n",
       "      <td>0.467012</td>\n",
       "      <td>0.417868</td>\n",
       "      <td>0.418905</td>\n",
       "      <td>0.622911</td>\n",
       "      <td>0.512570</td>\n",
       "      <td>-0.005196</td>\n",
       "      <td>0.776710</td>\n",
       "      <td>0.100302</td>\n",
       "      <td>0.039544</td>\n",
       "      <td>...</td>\n",
       "      <td>0.405698</td>\n",
       "      <td>0.225461</td>\n",
       "      <td>0.935848</td>\n",
       "      <td>0.033215</td>\n",
       "      <td>0.365703</td>\n",
       "      <td>0.674169</td>\n",
       "      <td>1.007894</td>\n",
       "      <td>0.286851</td>\n",
       "      <td>0.204580</td>\n",
       "      <td>0.272714</td>\n",
       "    </tr>\n",
       "    <tr>\n",
       "      <th>17</th>\n",
       "      <td>0.508801</td>\n",
       "      <td>0.118522</td>\n",
       "      <td>0.422171</td>\n",
       "      <td>0.065105</td>\n",
       "      <td>0.679250</td>\n",
       "      <td>0.793326</td>\n",
       "      <td>0.236236</td>\n",
       "      <td>0.410827</td>\n",
       "      <td>0.557386</td>\n",
       "      <td>0.883923</td>\n",
       "      <td>...</td>\n",
       "      <td>0.666106</td>\n",
       "      <td>0.319028</td>\n",
       "      <td>0.675681</td>\n",
       "      <td>0.691927</td>\n",
       "      <td>0.555440</td>\n",
       "      <td>0.673399</td>\n",
       "      <td>0.151327</td>\n",
       "      <td>0.119857</td>\n",
       "      <td>0.719426</td>\n",
       "      <td>0.256421</td>\n",
       "    </tr>\n",
       "    <tr>\n",
       "      <th>18</th>\n",
       "      <td>0.236890</td>\n",
       "      <td>0.961850</td>\n",
       "      <td>0.593593</td>\n",
       "      <td>0.712463</td>\n",
       "      <td>0.295250</td>\n",
       "      <td>0.478543</td>\n",
       "      <td>0.055219</td>\n",
       "      <td>0.588510</td>\n",
       "      <td>0.759585</td>\n",
       "      <td>0.169540</td>\n",
       "      <td>...</td>\n",
       "      <td>0.380374</td>\n",
       "      <td>0.104723</td>\n",
       "      <td>0.819753</td>\n",
       "      <td>0.317590</td>\n",
       "      <td>0.509041</td>\n",
       "      <td>0.492341</td>\n",
       "      <td>0.590441</td>\n",
       "      <td>0.421091</td>\n",
       "      <td>0.943928</td>\n",
       "      <td>0.809377</td>\n",
       "    </tr>\n",
       "    <tr>\n",
       "      <th>19</th>\n",
       "      <td>0.525479</td>\n",
       "      <td>0.865160</td>\n",
       "      <td>0.137204</td>\n",
       "      <td>0.112125</td>\n",
       "      <td>0.217127</td>\n",
       "      <td>0.577646</td>\n",
       "      <td>-0.005544</td>\n",
       "      <td>0.587656</td>\n",
       "      <td>0.697862</td>\n",
       "      <td>0.750254</td>\n",
       "      <td>...</td>\n",
       "      <td>0.543556</td>\n",
       "      <td>0.165445</td>\n",
       "      <td>0.204747</td>\n",
       "      <td>0.920416</td>\n",
       "      <td>0.257814</td>\n",
       "      <td>0.204141</td>\n",
       "      <td>0.434575</td>\n",
       "      <td>0.935244</td>\n",
       "      <td>0.291302</td>\n",
       "      <td>0.925717</td>\n",
       "    </tr>\n",
       "    <tr>\n",
       "      <th>20</th>\n",
       "      <td>0.601883</td>\n",
       "      <td>0.436184</td>\n",
       "      <td>0.909570</td>\n",
       "      <td>0.148457</td>\n",
       "      <td>0.309823</td>\n",
       "      <td>0.161934</td>\n",
       "      <td>0.142195</td>\n",
       "      <td>0.421425</td>\n",
       "      <td>0.540283</td>\n",
       "      <td>0.451647</td>\n",
       "      <td>...</td>\n",
       "      <td>0.762032</td>\n",
       "      <td>0.452113</td>\n",
       "      <td>0.723948</td>\n",
       "      <td>-0.002877</td>\n",
       "      <td>0.428957</td>\n",
       "      <td>0.576017</td>\n",
       "      <td>0.692628</td>\n",
       "      <td>0.133671</td>\n",
       "      <td>0.330066</td>\n",
       "      <td>0.312919</td>\n",
       "    </tr>\n",
       "    <tr>\n",
       "      <th>21</th>\n",
       "      <td>0.796490</td>\n",
       "      <td>0.245884</td>\n",
       "      <td>0.762705</td>\n",
       "      <td>0.328082</td>\n",
       "      <td>0.388435</td>\n",
       "      <td>0.386261</td>\n",
       "      <td>0.777793</td>\n",
       "      <td>0.224596</td>\n",
       "      <td>0.243155</td>\n",
       "      <td>0.789291</td>\n",
       "      <td>...</td>\n",
       "      <td>0.878399</td>\n",
       "      <td>0.590320</td>\n",
       "      <td>0.580608</td>\n",
       "      <td>0.012640</td>\n",
       "      <td>0.934166</td>\n",
       "      <td>0.090365</td>\n",
       "      <td>0.032219</td>\n",
       "      <td>0.430705</td>\n",
       "      <td>0.385612</td>\n",
       "      <td>0.226569</td>\n",
       "    </tr>\n",
       "    <tr>\n",
       "      <th>22</th>\n",
       "      <td>0.179640</td>\n",
       "      <td>0.075008</td>\n",
       "      <td>0.133731</td>\n",
       "      <td>0.625513</td>\n",
       "      <td>0.394864</td>\n",
       "      <td>0.247160</td>\n",
       "      <td>0.299044</td>\n",
       "      <td>0.048715</td>\n",
       "      <td>0.365336</td>\n",
       "      <td>0.169609</td>\n",
       "      <td>...</td>\n",
       "      <td>0.545044</td>\n",
       "      <td>0.147440</td>\n",
       "      <td>0.670589</td>\n",
       "      <td>-0.016103</td>\n",
       "      <td>0.271524</td>\n",
       "      <td>0.457500</td>\n",
       "      <td>0.673844</td>\n",
       "      <td>0.799962</td>\n",
       "      <td>0.624540</td>\n",
       "      <td>0.281005</td>\n",
       "    </tr>\n",
       "    <tr>\n",
       "      <th>23</th>\n",
       "      <td>0.531108</td>\n",
       "      <td>0.878320</td>\n",
       "      <td>0.972818</td>\n",
       "      <td>0.927387</td>\n",
       "      <td>0.467920</td>\n",
       "      <td>0.757676</td>\n",
       "      <td>0.384251</td>\n",
       "      <td>0.268742</td>\n",
       "      <td>0.536124</td>\n",
       "      <td>0.364414</td>\n",
       "      <td>...</td>\n",
       "      <td>0.350971</td>\n",
       "      <td>0.340117</td>\n",
       "      <td>0.610571</td>\n",
       "      <td>0.489147</td>\n",
       "      <td>0.620224</td>\n",
       "      <td>0.171287</td>\n",
       "      <td>0.707865</td>\n",
       "      <td>0.512296</td>\n",
       "      <td>0.779139</td>\n",
       "      <td>0.081187</td>\n",
       "    </tr>\n",
       "    <tr>\n",
       "      <th>24</th>\n",
       "      <td>0.363449</td>\n",
       "      <td>0.059429</td>\n",
       "      <td>0.931686</td>\n",
       "      <td>0.571170</td>\n",
       "      <td>0.734205</td>\n",
       "      <td>0.467315</td>\n",
       "      <td>0.934377</td>\n",
       "      <td>0.673233</td>\n",
       "      <td>0.269701</td>\n",
       "      <td>0.778610</td>\n",
       "      <td>...</td>\n",
       "      <td>0.678464</td>\n",
       "      <td>-0.036251</td>\n",
       "      <td>0.807174</td>\n",
       "      <td>0.232996</td>\n",
       "      <td>0.863644</td>\n",
       "      <td>-0.054359</td>\n",
       "      <td>0.417227</td>\n",
       "      <td>0.744429</td>\n",
       "      <td>0.709489</td>\n",
       "      <td>0.658849</td>\n",
       "    </tr>\n",
       "    <tr>\n",
       "      <th>25</th>\n",
       "      <td>0.521176</td>\n",
       "      <td>0.009974</td>\n",
       "      <td>0.425588</td>\n",
       "      <td>0.589351</td>\n",
       "      <td>0.536432</td>\n",
       "      <td>0.630568</td>\n",
       "      <td>0.495958</td>\n",
       "      <td>0.709053</td>\n",
       "      <td>0.207387</td>\n",
       "      <td>0.784702</td>\n",
       "      <td>...</td>\n",
       "      <td>0.548509</td>\n",
       "      <td>0.081772</td>\n",
       "      <td>0.264913</td>\n",
       "      <td>0.835776</td>\n",
       "      <td>0.108289</td>\n",
       "      <td>0.166532</td>\n",
       "      <td>0.540069</td>\n",
       "      <td>0.992428</td>\n",
       "      <td>0.856707</td>\n",
       "      <td>0.278692</td>\n",
       "    </tr>\n",
       "    <tr>\n",
       "      <th>26</th>\n",
       "      <td>0.322414</td>\n",
       "      <td>0.064944</td>\n",
       "      <td>0.729219</td>\n",
       "      <td>0.970835</td>\n",
       "      <td>0.520762</td>\n",
       "      <td>0.012811</td>\n",
       "      <td>0.595764</td>\n",
       "      <td>0.453910</td>\n",
       "      <td>0.210935</td>\n",
       "      <td>0.041923</td>\n",
       "      <td>...</td>\n",
       "      <td>0.400106</td>\n",
       "      <td>0.673287</td>\n",
       "      <td>0.528599</td>\n",
       "      <td>0.597640</td>\n",
       "      <td>0.603518</td>\n",
       "      <td>0.649728</td>\n",
       "      <td>0.513218</td>\n",
       "      <td>0.461131</td>\n",
       "      <td>0.021411</td>\n",
       "      <td>0.235760</td>\n",
       "    </tr>\n",
       "    <tr>\n",
       "      <th>27</th>\n",
       "      <td>0.608884</td>\n",
       "      <td>0.740154</td>\n",
       "      <td>0.944091</td>\n",
       "      <td>0.139186</td>\n",
       "      <td>0.173084</td>\n",
       "      <td>0.299686</td>\n",
       "      <td>0.795480</td>\n",
       "      <td>0.821206</td>\n",
       "      <td>0.129482</td>\n",
       "      <td>0.651720</td>\n",
       "      <td>...</td>\n",
       "      <td>0.384674</td>\n",
       "      <td>0.670166</td>\n",
       "      <td>0.492934</td>\n",
       "      <td>0.532165</td>\n",
       "      <td>0.042486</td>\n",
       "      <td>0.287263</td>\n",
       "      <td>0.413762</td>\n",
       "      <td>0.031214</td>\n",
       "      <td>0.629299</td>\n",
       "      <td>0.848126</td>\n",
       "    </tr>\n",
       "    <tr>\n",
       "      <th>28</th>\n",
       "      <td>0.287405</td>\n",
       "      <td>0.634454</td>\n",
       "      <td>0.077170</td>\n",
       "      <td>0.323236</td>\n",
       "      <td>0.746830</td>\n",
       "      <td>0.828545</td>\n",
       "      <td>0.709338</td>\n",
       "      <td>0.674352</td>\n",
       "      <td>0.783270</td>\n",
       "      <td>0.168748</td>\n",
       "      <td>...</td>\n",
       "      <td>0.350193</td>\n",
       "      <td>0.683718</td>\n",
       "      <td>0.336548</td>\n",
       "      <td>0.455189</td>\n",
       "      <td>0.290871</td>\n",
       "      <td>0.726173</td>\n",
       "      <td>0.392295</td>\n",
       "      <td>0.734767</td>\n",
       "      <td>0.559972</td>\n",
       "      <td>0.124427</td>\n",
       "    </tr>\n",
       "    <tr>\n",
       "      <th>29</th>\n",
       "      <td>0.704428</td>\n",
       "      <td>0.613937</td>\n",
       "      <td>0.332954</td>\n",
       "      <td>0.473490</td>\n",
       "      <td>0.878554</td>\n",
       "      <td>0.947570</td>\n",
       "      <td>0.437574</td>\n",
       "      <td>0.023945</td>\n",
       "      <td>0.018379</td>\n",
       "      <td>0.191036</td>\n",
       "      <td>...</td>\n",
       "      <td>0.703866</td>\n",
       "      <td>0.558475</td>\n",
       "      <td>0.223494</td>\n",
       "      <td>0.578403</td>\n",
       "      <td>0.773490</td>\n",
       "      <td>0.347518</td>\n",
       "      <td>0.793886</td>\n",
       "      <td>-0.060605</td>\n",
       "      <td>0.682214</td>\n",
       "      <td>0.764214</td>\n",
       "    </tr>\n",
       "    <tr>\n",
       "      <th>...</th>\n",
       "      <td>...</td>\n",
       "      <td>...</td>\n",
       "      <td>...</td>\n",
       "      <td>...</td>\n",
       "      <td>...</td>\n",
       "      <td>...</td>\n",
       "      <td>...</td>\n",
       "      <td>...</td>\n",
       "      <td>...</td>\n",
       "      <td>...</td>\n",
       "      <td>...</td>\n",
       "      <td>...</td>\n",
       "      <td>...</td>\n",
       "      <td>...</td>\n",
       "      <td>...</td>\n",
       "      <td>...</td>\n",
       "      <td>...</td>\n",
       "      <td>...</td>\n",
       "      <td>...</td>\n",
       "      <td>...</td>\n",
       "      <td>...</td>\n",
       "    </tr>\n",
       "    <tr>\n",
       "      <th>548121</th>\n",
       "      <td>0.905667</td>\n",
       "      <td>0.368906</td>\n",
       "      <td>0.269027</td>\n",
       "      <td>0.731519</td>\n",
       "      <td>0.443344</td>\n",
       "      <td>0.178146</td>\n",
       "      <td>0.069793</td>\n",
       "      <td>0.422651</td>\n",
       "      <td>0.791562</td>\n",
       "      <td>0.770200</td>\n",
       "      <td>...</td>\n",
       "      <td>0.375023</td>\n",
       "      <td>0.815926</td>\n",
       "      <td>0.383089</td>\n",
       "      <td>0.128986</td>\n",
       "      <td>0.072531</td>\n",
       "      <td>0.729459</td>\n",
       "      <td>0.656428</td>\n",
       "      <td>0.200134</td>\n",
       "      <td>0.955495</td>\n",
       "      <td>0.392951</td>\n",
       "    </tr>\n",
       "    <tr>\n",
       "      <th>548122</th>\n",
       "      <td>0.411662</td>\n",
       "      <td>0.900080</td>\n",
       "      <td>0.378649</td>\n",
       "      <td>0.642338</td>\n",
       "      <td>0.821374</td>\n",
       "      <td>0.407923</td>\n",
       "      <td>0.733239</td>\n",
       "      <td>0.004660</td>\n",
       "      <td>0.771132</td>\n",
       "      <td>0.234112</td>\n",
       "      <td>...</td>\n",
       "      <td>0.423716</td>\n",
       "      <td>0.277990</td>\n",
       "      <td>0.287870</td>\n",
       "      <td>0.187128</td>\n",
       "      <td>0.175606</td>\n",
       "      <td>0.280479</td>\n",
       "      <td>0.826356</td>\n",
       "      <td>0.954332</td>\n",
       "      <td>0.293135</td>\n",
       "      <td>0.840035</td>\n",
       "    </tr>\n",
       "    <tr>\n",
       "      <th>548123</th>\n",
       "      <td>0.087594</td>\n",
       "      <td>0.848848</td>\n",
       "      <td>0.417853</td>\n",
       "      <td>0.904373</td>\n",
       "      <td>0.293770</td>\n",
       "      <td>0.288073</td>\n",
       "      <td>0.347718</td>\n",
       "      <td>0.904085</td>\n",
       "      <td>0.966277</td>\n",
       "      <td>0.943214</td>\n",
       "      <td>...</td>\n",
       "      <td>0.299950</td>\n",
       "      <td>0.940723</td>\n",
       "      <td>0.849239</td>\n",
       "      <td>0.092040</td>\n",
       "      <td>0.131110</td>\n",
       "      <td>0.391998</td>\n",
       "      <td>0.571669</td>\n",
       "      <td>0.123740</td>\n",
       "      <td>0.052798</td>\n",
       "      <td>0.294214</td>\n",
       "    </tr>\n",
       "    <tr>\n",
       "      <th>548124</th>\n",
       "      <td>0.940247</td>\n",
       "      <td>0.224456</td>\n",
       "      <td>0.782147</td>\n",
       "      <td>0.733532</td>\n",
       "      <td>0.083149</td>\n",
       "      <td>0.956453</td>\n",
       "      <td>0.608609</td>\n",
       "      <td>0.432311</td>\n",
       "      <td>0.047566</td>\n",
       "      <td>0.019526</td>\n",
       "      <td>...</td>\n",
       "      <td>0.457810</td>\n",
       "      <td>0.540529</td>\n",
       "      <td>0.770087</td>\n",
       "      <td>0.151000</td>\n",
       "      <td>0.258041</td>\n",
       "      <td>0.361195</td>\n",
       "      <td>0.157527</td>\n",
       "      <td>0.377014</td>\n",
       "      <td>0.618021</td>\n",
       "      <td>0.839291</td>\n",
       "    </tr>\n",
       "    <tr>\n",
       "      <th>548125</th>\n",
       "      <td>0.208459</td>\n",
       "      <td>0.743115</td>\n",
       "      <td>0.717545</td>\n",
       "      <td>0.339082</td>\n",
       "      <td>0.092053</td>\n",
       "      <td>0.792684</td>\n",
       "      <td>0.263771</td>\n",
       "      <td>0.241264</td>\n",
       "      <td>0.405234</td>\n",
       "      <td>0.149842</td>\n",
       "      <td>...</td>\n",
       "      <td>0.863040</td>\n",
       "      <td>0.557266</td>\n",
       "      <td>0.304818</td>\n",
       "      <td>0.855919</td>\n",
       "      <td>0.634768</td>\n",
       "      <td>0.499607</td>\n",
       "      <td>0.251517</td>\n",
       "      <td>0.353083</td>\n",
       "      <td>0.933417</td>\n",
       "      <td>0.937746</td>\n",
       "    </tr>\n",
       "    <tr>\n",
       "      <th>548126</th>\n",
       "      <td>0.616994</td>\n",
       "      <td>0.534530</td>\n",
       "      <td>0.255756</td>\n",
       "      <td>0.886942</td>\n",
       "      <td>-0.014705</td>\n",
       "      <td>0.168849</td>\n",
       "      <td>0.229028</td>\n",
       "      <td>0.462680</td>\n",
       "      <td>0.024614</td>\n",
       "      <td>0.271712</td>\n",
       "      <td>...</td>\n",
       "      <td>0.038990</td>\n",
       "      <td>0.495206</td>\n",
       "      <td>0.367924</td>\n",
       "      <td>0.480698</td>\n",
       "      <td>0.381046</td>\n",
       "      <td>0.615007</td>\n",
       "      <td>0.578079</td>\n",
       "      <td>0.272825</td>\n",
       "      <td>0.667439</td>\n",
       "      <td>0.455035</td>\n",
       "    </tr>\n",
       "    <tr>\n",
       "      <th>548127</th>\n",
       "      <td>0.243693</td>\n",
       "      <td>0.205980</td>\n",
       "      <td>0.545747</td>\n",
       "      <td>0.108657</td>\n",
       "      <td>0.925811</td>\n",
       "      <td>0.475467</td>\n",
       "      <td>0.409529</td>\n",
       "      <td>0.179294</td>\n",
       "      <td>0.719524</td>\n",
       "      <td>0.234087</td>\n",
       "      <td>...</td>\n",
       "      <td>0.272819</td>\n",
       "      <td>0.738230</td>\n",
       "      <td>0.228681</td>\n",
       "      <td>0.180333</td>\n",
       "      <td>0.409047</td>\n",
       "      <td>0.762941</td>\n",
       "      <td>0.952783</td>\n",
       "      <td>0.935925</td>\n",
       "      <td>0.099374</td>\n",
       "      <td>0.839546</td>\n",
       "    </tr>\n",
       "    <tr>\n",
       "      <th>548128</th>\n",
       "      <td>0.988406</td>\n",
       "      <td>0.766827</td>\n",
       "      <td>0.817065</td>\n",
       "      <td>0.070373</td>\n",
       "      <td>0.278271</td>\n",
       "      <td>0.126628</td>\n",
       "      <td>0.137179</td>\n",
       "      <td>0.132564</td>\n",
       "      <td>0.713201</td>\n",
       "      <td>0.945833</td>\n",
       "      <td>...</td>\n",
       "      <td>0.755083</td>\n",
       "      <td>0.595140</td>\n",
       "      <td>0.888990</td>\n",
       "      <td>0.439494</td>\n",
       "      <td>0.159898</td>\n",
       "      <td>0.494313</td>\n",
       "      <td>0.545468</td>\n",
       "      <td>0.961002</td>\n",
       "      <td>0.873431</td>\n",
       "      <td>0.591314</td>\n",
       "    </tr>\n",
       "    <tr>\n",
       "      <th>548129</th>\n",
       "      <td>0.459660</td>\n",
       "      <td>0.023405</td>\n",
       "      <td>0.507663</td>\n",
       "      <td>0.901215</td>\n",
       "      <td>0.098110</td>\n",
       "      <td>0.166525</td>\n",
       "      <td>0.294192</td>\n",
       "      <td>0.840631</td>\n",
       "      <td>0.141506</td>\n",
       "      <td>0.238226</td>\n",
       "      <td>...</td>\n",
       "      <td>0.814114</td>\n",
       "      <td>0.612471</td>\n",
       "      <td>0.555048</td>\n",
       "      <td>0.325161</td>\n",
       "      <td>0.496742</td>\n",
       "      <td>0.344555</td>\n",
       "      <td>0.640795</td>\n",
       "      <td>0.021592</td>\n",
       "      <td>0.253969</td>\n",
       "      <td>0.940872</td>\n",
       "    </tr>\n",
       "    <tr>\n",
       "      <th>548130</th>\n",
       "      <td>0.046049</td>\n",
       "      <td>0.578221</td>\n",
       "      <td>0.161689</td>\n",
       "      <td>0.103134</td>\n",
       "      <td>0.222890</td>\n",
       "      <td>0.264017</td>\n",
       "      <td>0.686975</td>\n",
       "      <td>0.753865</td>\n",
       "      <td>0.741877</td>\n",
       "      <td>0.539177</td>\n",
       "      <td>...</td>\n",
       "      <td>0.854273</td>\n",
       "      <td>0.299032</td>\n",
       "      <td>0.832023</td>\n",
       "      <td>0.912789</td>\n",
       "      <td>0.279194</td>\n",
       "      <td>0.864597</td>\n",
       "      <td>0.067110</td>\n",
       "      <td>0.501521</td>\n",
       "      <td>0.021432</td>\n",
       "      <td>-0.021177</td>\n",
       "    </tr>\n",
       "    <tr>\n",
       "      <th>548131</th>\n",
       "      <td>0.984678</td>\n",
       "      <td>0.021634</td>\n",
       "      <td>0.744448</td>\n",
       "      <td>0.745373</td>\n",
       "      <td>0.278947</td>\n",
       "      <td>0.813796</td>\n",
       "      <td>0.877368</td>\n",
       "      <td>0.097667</td>\n",
       "      <td>0.113149</td>\n",
       "      <td>0.436864</td>\n",
       "      <td>...</td>\n",
       "      <td>0.958663</td>\n",
       "      <td>0.081476</td>\n",
       "      <td>0.469651</td>\n",
       "      <td>0.496400</td>\n",
       "      <td>0.457603</td>\n",
       "      <td>0.894502</td>\n",
       "      <td>0.564689</td>\n",
       "      <td>0.325876</td>\n",
       "      <td>0.915720</td>\n",
       "      <td>0.174986</td>\n",
       "    </tr>\n",
       "    <tr>\n",
       "      <th>548132</th>\n",
       "      <td>0.435529</td>\n",
       "      <td>0.634967</td>\n",
       "      <td>0.185250</td>\n",
       "      <td>0.705760</td>\n",
       "      <td>0.861063</td>\n",
       "      <td>0.842770</td>\n",
       "      <td>0.932577</td>\n",
       "      <td>0.892734</td>\n",
       "      <td>0.136645</td>\n",
       "      <td>0.344990</td>\n",
       "      <td>...</td>\n",
       "      <td>0.733257</td>\n",
       "      <td>0.562578</td>\n",
       "      <td>0.647907</td>\n",
       "      <td>0.593425</td>\n",
       "      <td>0.033274</td>\n",
       "      <td>0.767390</td>\n",
       "      <td>0.915533</td>\n",
       "      <td>-0.007246</td>\n",
       "      <td>0.047368</td>\n",
       "      <td>0.839129</td>\n",
       "    </tr>\n",
       "    <tr>\n",
       "      <th>548133</th>\n",
       "      <td>0.134584</td>\n",
       "      <td>0.621025</td>\n",
       "      <td>0.843816</td>\n",
       "      <td>0.278381</td>\n",
       "      <td>0.784620</td>\n",
       "      <td>0.750763</td>\n",
       "      <td>0.933798</td>\n",
       "      <td>0.891705</td>\n",
       "      <td>0.670582</td>\n",
       "      <td>0.097471</td>\n",
       "      <td>...</td>\n",
       "      <td>0.350971</td>\n",
       "      <td>0.340117</td>\n",
       "      <td>0.610571</td>\n",
       "      <td>0.489147</td>\n",
       "      <td>0.620224</td>\n",
       "      <td>0.171287</td>\n",
       "      <td>0.707865</td>\n",
       "      <td>0.512296</td>\n",
       "      <td>0.779139</td>\n",
       "      <td>0.081187</td>\n",
       "    </tr>\n",
       "    <tr>\n",
       "      <th>548134</th>\n",
       "      <td>0.012151</td>\n",
       "      <td>0.362114</td>\n",
       "      <td>0.783618</td>\n",
       "      <td>0.740654</td>\n",
       "      <td>0.446722</td>\n",
       "      <td>0.605771</td>\n",
       "      <td>0.870764</td>\n",
       "      <td>0.278995</td>\n",
       "      <td>0.900189</td>\n",
       "      <td>0.826434</td>\n",
       "      <td>...</td>\n",
       "      <td>0.434253</td>\n",
       "      <td>0.559090</td>\n",
       "      <td>0.100445</td>\n",
       "      <td>0.089800</td>\n",
       "      <td>0.335309</td>\n",
       "      <td>0.010003</td>\n",
       "      <td>0.537154</td>\n",
       "      <td>0.583764</td>\n",
       "      <td>0.427928</td>\n",
       "      <td>0.344844</td>\n",
       "    </tr>\n",
       "    <tr>\n",
       "      <th>548135</th>\n",
       "      <td>0.473817</td>\n",
       "      <td>0.057636</td>\n",
       "      <td>0.249380</td>\n",
       "      <td>0.517245</td>\n",
       "      <td>0.538832</td>\n",
       "      <td>0.099192</td>\n",
       "      <td>0.620200</td>\n",
       "      <td>0.616978</td>\n",
       "      <td>0.193353</td>\n",
       "      <td>0.242846</td>\n",
       "      <td>...</td>\n",
       "      <td>0.648924</td>\n",
       "      <td>0.130094</td>\n",
       "      <td>0.408373</td>\n",
       "      <td>0.024712</td>\n",
       "      <td>0.642691</td>\n",
       "      <td>0.318508</td>\n",
       "      <td>0.475270</td>\n",
       "      <td>0.039142</td>\n",
       "      <td>0.254416</td>\n",
       "      <td>0.946535</td>\n",
       "    </tr>\n",
       "    <tr>\n",
       "      <th>548136</th>\n",
       "      <td>0.770217</td>\n",
       "      <td>0.123648</td>\n",
       "      <td>0.115665</td>\n",
       "      <td>0.957667</td>\n",
       "      <td>0.171364</td>\n",
       "      <td>0.463401</td>\n",
       "      <td>0.913005</td>\n",
       "      <td>-0.006964</td>\n",
       "      <td>0.102816</td>\n",
       "      <td>0.258464</td>\n",
       "      <td>...</td>\n",
       "      <td>0.948791</td>\n",
       "      <td>0.453903</td>\n",
       "      <td>0.294029</td>\n",
       "      <td>0.584934</td>\n",
       "      <td>0.497810</td>\n",
       "      <td>0.022473</td>\n",
       "      <td>0.687595</td>\n",
       "      <td>0.498398</td>\n",
       "      <td>0.202987</td>\n",
       "      <td>0.797707</td>\n",
       "    </tr>\n",
       "    <tr>\n",
       "      <th>548137</th>\n",
       "      <td>0.901031</td>\n",
       "      <td>0.236212</td>\n",
       "      <td>0.971871</td>\n",
       "      <td>0.697435</td>\n",
       "      <td>0.980226</td>\n",
       "      <td>0.299459</td>\n",
       "      <td>0.472861</td>\n",
       "      <td>0.512807</td>\n",
       "      <td>0.218613</td>\n",
       "      <td>0.749289</td>\n",
       "      <td>...</td>\n",
       "      <td>0.320113</td>\n",
       "      <td>0.782698</td>\n",
       "      <td>0.475439</td>\n",
       "      <td>0.538030</td>\n",
       "      <td>0.194003</td>\n",
       "      <td>0.433778</td>\n",
       "      <td>0.686091</td>\n",
       "      <td>0.815702</td>\n",
       "      <td>0.370251</td>\n",
       "      <td>0.513669</td>\n",
       "    </tr>\n",
       "    <tr>\n",
       "      <th>548138</th>\n",
       "      <td>0.827165</td>\n",
       "      <td>0.730264</td>\n",
       "      <td>0.096988</td>\n",
       "      <td>0.018745</td>\n",
       "      <td>0.619863</td>\n",
       "      <td>0.335234</td>\n",
       "      <td>0.311430</td>\n",
       "      <td>0.542400</td>\n",
       "      <td>0.194505</td>\n",
       "      <td>0.845694</td>\n",
       "      <td>...</td>\n",
       "      <td>-0.110029</td>\n",
       "      <td>0.694946</td>\n",
       "      <td>0.240759</td>\n",
       "      <td>0.293010</td>\n",
       "      <td>0.667924</td>\n",
       "      <td>0.145305</td>\n",
       "      <td>0.259250</td>\n",
       "      <td>0.307367</td>\n",
       "      <td>0.501687</td>\n",
       "      <td>0.569696</td>\n",
       "    </tr>\n",
       "    <tr>\n",
       "      <th>548139</th>\n",
       "      <td>0.966657</td>\n",
       "      <td>0.783262</td>\n",
       "      <td>0.274257</td>\n",
       "      <td>0.025301</td>\n",
       "      <td>0.353140</td>\n",
       "      <td>0.040364</td>\n",
       "      <td>0.235136</td>\n",
       "      <td>0.363405</td>\n",
       "      <td>0.254478</td>\n",
       "      <td>0.731265</td>\n",
       "      <td>...</td>\n",
       "      <td>0.784423</td>\n",
       "      <td>0.658917</td>\n",
       "      <td>0.301657</td>\n",
       "      <td>0.662127</td>\n",
       "      <td>0.126720</td>\n",
       "      <td>0.222149</td>\n",
       "      <td>0.597158</td>\n",
       "      <td>0.627164</td>\n",
       "      <td>0.729148</td>\n",
       "      <td>0.752554</td>\n",
       "    </tr>\n",
       "    <tr>\n",
       "      <th>548140</th>\n",
       "      <td>0.056292</td>\n",
       "      <td>0.915934</td>\n",
       "      <td>0.134394</td>\n",
       "      <td>0.615556</td>\n",
       "      <td>0.698997</td>\n",
       "      <td>0.014971</td>\n",
       "      <td>0.841650</td>\n",
       "      <td>0.680246</td>\n",
       "      <td>0.471074</td>\n",
       "      <td>0.320232</td>\n",
       "      <td>...</td>\n",
       "      <td>0.761333</td>\n",
       "      <td>0.585262</td>\n",
       "      <td>0.513022</td>\n",
       "      <td>0.869637</td>\n",
       "      <td>0.963963</td>\n",
       "      <td>0.034783</td>\n",
       "      <td>0.794235</td>\n",
       "      <td>0.258952</td>\n",
       "      <td>0.077437</td>\n",
       "      <td>0.037574</td>\n",
       "    </tr>\n",
       "    <tr>\n",
       "      <th>548141</th>\n",
       "      <td>0.415210</td>\n",
       "      <td>0.569378</td>\n",
       "      <td>0.822829</td>\n",
       "      <td>0.347265</td>\n",
       "      <td>0.622562</td>\n",
       "      <td>0.046362</td>\n",
       "      <td>0.709175</td>\n",
       "      <td>0.335389</td>\n",
       "      <td>0.074441</td>\n",
       "      <td>0.917042</td>\n",
       "      <td>...</td>\n",
       "      <td>0.042928</td>\n",
       "      <td>0.361685</td>\n",
       "      <td>0.801557</td>\n",
       "      <td>0.328616</td>\n",
       "      <td>0.422822</td>\n",
       "      <td>-0.025460</td>\n",
       "      <td>0.884915</td>\n",
       "      <td>0.825687</td>\n",
       "      <td>0.505575</td>\n",
       "      <td>0.788698</td>\n",
       "    </tr>\n",
       "    <tr>\n",
       "      <th>548142</th>\n",
       "      <td>0.063463</td>\n",
       "      <td>0.112967</td>\n",
       "      <td>0.385705</td>\n",
       "      <td>0.254533</td>\n",
       "      <td>0.188189</td>\n",
       "      <td>0.024760</td>\n",
       "      <td>0.960675</td>\n",
       "      <td>0.287118</td>\n",
       "      <td>0.951582</td>\n",
       "      <td>0.458840</td>\n",
       "      <td>...</td>\n",
       "      <td>0.470969</td>\n",
       "      <td>0.947335</td>\n",
       "      <td>0.876672</td>\n",
       "      <td>0.605856</td>\n",
       "      <td>0.207401</td>\n",
       "      <td>0.754855</td>\n",
       "      <td>0.529177</td>\n",
       "      <td>0.464004</td>\n",
       "      <td>0.362139</td>\n",
       "      <td>0.108028</td>\n",
       "    </tr>\n",
       "    <tr>\n",
       "      <th>548143</th>\n",
       "      <td>0.988406</td>\n",
       "      <td>0.766827</td>\n",
       "      <td>0.817065</td>\n",
       "      <td>0.070373</td>\n",
       "      <td>0.278271</td>\n",
       "      <td>0.126628</td>\n",
       "      <td>0.137179</td>\n",
       "      <td>0.132564</td>\n",
       "      <td>0.713201</td>\n",
       "      <td>0.945833</td>\n",
       "      <td>...</td>\n",
       "      <td>0.396439</td>\n",
       "      <td>0.085371</td>\n",
       "      <td>0.991275</td>\n",
       "      <td>0.752331</td>\n",
       "      <td>0.299952</td>\n",
       "      <td>0.990254</td>\n",
       "      <td>0.382201</td>\n",
       "      <td>0.450421</td>\n",
       "      <td>0.431334</td>\n",
       "      <td>0.272534</td>\n",
       "    </tr>\n",
       "    <tr>\n",
       "      <th>548144</th>\n",
       "      <td>0.851575</td>\n",
       "      <td>0.828467</td>\n",
       "      <td>0.107959</td>\n",
       "      <td>0.872750</td>\n",
       "      <td>0.400092</td>\n",
       "      <td>0.216996</td>\n",
       "      <td>0.972646</td>\n",
       "      <td>0.930505</td>\n",
       "      <td>0.178562</td>\n",
       "      <td>0.701628</td>\n",
       "      <td>...</td>\n",
       "      <td>0.792445</td>\n",
       "      <td>0.712786</td>\n",
       "      <td>0.931025</td>\n",
       "      <td>-0.023099</td>\n",
       "      <td>0.270881</td>\n",
       "      <td>0.717834</td>\n",
       "      <td>0.506692</td>\n",
       "      <td>0.371852</td>\n",
       "      <td>0.936184</td>\n",
       "      <td>0.757974</td>\n",
       "    </tr>\n",
       "    <tr>\n",
       "      <th>548145</th>\n",
       "      <td>0.621035</td>\n",
       "      <td>0.372389</td>\n",
       "      <td>0.893491</td>\n",
       "      <td>0.951221</td>\n",
       "      <td>0.426842</td>\n",
       "      <td>0.428927</td>\n",
       "      <td>0.730887</td>\n",
       "      <td>0.326976</td>\n",
       "      <td>0.375220</td>\n",
       "      <td>0.880054</td>\n",
       "      <td>...</td>\n",
       "      <td>0.465679</td>\n",
       "      <td>0.597454</td>\n",
       "      <td>0.637414</td>\n",
       "      <td>0.123626</td>\n",
       "      <td>0.332165</td>\n",
       "      <td>0.255182</td>\n",
       "      <td>0.806289</td>\n",
       "      <td>0.400373</td>\n",
       "      <td>0.699391</td>\n",
       "      <td>0.919959</td>\n",
       "    </tr>\n",
       "    <tr>\n",
       "      <th>548146</th>\n",
       "      <td>0.050741</td>\n",
       "      <td>0.167083</td>\n",
       "      <td>0.547252</td>\n",
       "      <td>0.525306</td>\n",
       "      <td>0.157047</td>\n",
       "      <td>0.338245</td>\n",
       "      <td>0.812677</td>\n",
       "      <td>0.152091</td>\n",
       "      <td>0.192379</td>\n",
       "      <td>0.436463</td>\n",
       "      <td>...</td>\n",
       "      <td>0.127929</td>\n",
       "      <td>0.273698</td>\n",
       "      <td>0.326555</td>\n",
       "      <td>0.082336</td>\n",
       "      <td>0.904622</td>\n",
       "      <td>0.875443</td>\n",
       "      <td>0.620423</td>\n",
       "      <td>0.076158</td>\n",
       "      <td>0.705124</td>\n",
       "      <td>0.359589</td>\n",
       "    </tr>\n",
       "    <tr>\n",
       "      <th>548147</th>\n",
       "      <td>0.907242</td>\n",
       "      <td>0.068556</td>\n",
       "      <td>0.593762</td>\n",
       "      <td>0.767009</td>\n",
       "      <td>0.043762</td>\n",
       "      <td>0.031121</td>\n",
       "      <td>0.393156</td>\n",
       "      <td>0.688155</td>\n",
       "      <td>0.065606</td>\n",
       "      <td>0.091405</td>\n",
       "      <td>...</td>\n",
       "      <td>0.992550</td>\n",
       "      <td>0.966592</td>\n",
       "      <td>0.812891</td>\n",
       "      <td>0.149944</td>\n",
       "      <td>0.260183</td>\n",
       "      <td>0.683958</td>\n",
       "      <td>0.493611</td>\n",
       "      <td>0.021205</td>\n",
       "      <td>0.560645</td>\n",
       "      <td>0.579143</td>\n",
       "    </tr>\n",
       "    <tr>\n",
       "      <th>548148</th>\n",
       "      <td>0.642953</td>\n",
       "      <td>0.551284</td>\n",
       "      <td>0.316754</td>\n",
       "      <td>0.309823</td>\n",
       "      <td>0.115156</td>\n",
       "      <td>0.708868</td>\n",
       "      <td>0.332290</td>\n",
       "      <td>0.855254</td>\n",
       "      <td>0.737141</td>\n",
       "      <td>0.532639</td>\n",
       "      <td>...</td>\n",
       "      <td>0.102662</td>\n",
       "      <td>0.188623</td>\n",
       "      <td>0.901872</td>\n",
       "      <td>0.408423</td>\n",
       "      <td>0.407139</td>\n",
       "      <td>0.623934</td>\n",
       "      <td>0.676226</td>\n",
       "      <td>0.347073</td>\n",
       "      <td>0.810436</td>\n",
       "      <td>0.908069</td>\n",
       "    </tr>\n",
       "    <tr>\n",
       "      <th>548149</th>\n",
       "      <td>0.879723</td>\n",
       "      <td>0.862531</td>\n",
       "      <td>0.442131</td>\n",
       "      <td>0.310117</td>\n",
       "      <td>0.696512</td>\n",
       "      <td>0.720176</td>\n",
       "      <td>0.432413</td>\n",
       "      <td>0.954028</td>\n",
       "      <td>0.150244</td>\n",
       "      <td>0.013858</td>\n",
       "      <td>...</td>\n",
       "      <td>0.256223</td>\n",
       "      <td>0.138856</td>\n",
       "      <td>0.684023</td>\n",
       "      <td>0.365697</td>\n",
       "      <td>0.057678</td>\n",
       "      <td>0.934219</td>\n",
       "      <td>0.640901</td>\n",
       "      <td>0.674837</td>\n",
       "      <td>0.114204</td>\n",
       "      <td>0.874790</td>\n",
       "    </tr>\n",
       "    <tr>\n",
       "      <th>548150</th>\n",
       "      <td>0.372973</td>\n",
       "      <td>0.272693</td>\n",
       "      <td>0.323805</td>\n",
       "      <td>0.166002</td>\n",
       "      <td>0.967118</td>\n",
       "      <td>0.185356</td>\n",
       "      <td>0.751039</td>\n",
       "      <td>0.122082</td>\n",
       "      <td>0.776255</td>\n",
       "      <td>0.651588</td>\n",
       "      <td>...</td>\n",
       "      <td>0.576113</td>\n",
       "      <td>0.976850</td>\n",
       "      <td>0.214439</td>\n",
       "      <td>0.291315</td>\n",
       "      <td>0.864476</td>\n",
       "      <td>0.075994</td>\n",
       "      <td>0.592571</td>\n",
       "      <td>0.663862</td>\n",
       "      <td>0.888712</td>\n",
       "      <td>0.228451</td>\n",
       "    </tr>\n",
       "  </tbody>\n",
       "</table>\n",
       "<p>548151 rows × 62 columns</p>\n",
       "</div>"
      ],
      "text/plain": [
       "        U_repr_0  U_repr_1  U_repr_2  U_repr_3  U_repr_4  U_repr_5  U_repr_6  \\\n",
       "0       0.285530  0.451673  0.415204  0.794095  0.198871  0.281770  0.813397   \n",
       "1       0.895104  0.280017  0.527172  0.145700  0.620958  0.744842  0.943090   \n",
       "2       0.987992  0.891092  0.311056  0.378921  0.573891  0.409485  0.934201   \n",
       "3       0.564819  0.768071  0.655653  0.887160  0.396261  0.694480  0.246989   \n",
       "4       0.703309  0.300677  0.472421  0.121662  0.847579  0.137306  0.450844   \n",
       "5       0.579626  0.164982  0.826982  0.611158  0.105044  0.542491  0.532569   \n",
       "6       0.955736  0.203920  0.760478  0.561193  0.647169  0.633946  0.594385   \n",
       "7       0.084902  0.102463  0.174672  0.743350  0.843741  0.659644  0.349264   \n",
       "8       0.781435  0.348019  0.048853  0.901837  0.786121  0.470513  0.703930   \n",
       "9       0.369227  0.599645  0.382662  0.419308  0.197116  0.236051  0.518794   \n",
       "10      0.000853  0.545016  0.695363  0.628047  0.961688  0.979590  0.226776   \n",
       "11      0.581430  0.228949  0.979219  0.172007  0.669594  0.482945  0.804302   \n",
       "12      0.888106  0.019057  0.440230  0.738180  0.717286  0.373661  0.460589   \n",
       "13      0.459817  0.472166  0.504729  0.537618  0.877590  0.698588  0.547978   \n",
       "14      0.370628  0.859694  0.738025  0.917057  0.857657  0.871170  0.039202   \n",
       "15      0.756615  0.563073  0.829340  0.922867  0.138236  0.868290  0.129141   \n",
       "16      0.261126  0.467012  0.417868  0.418905  0.622911  0.512570 -0.005196   \n",
       "17      0.508801  0.118522  0.422171  0.065105  0.679250  0.793326  0.236236   \n",
       "18      0.236890  0.961850  0.593593  0.712463  0.295250  0.478543  0.055219   \n",
       "19      0.525479  0.865160  0.137204  0.112125  0.217127  0.577646 -0.005544   \n",
       "20      0.601883  0.436184  0.909570  0.148457  0.309823  0.161934  0.142195   \n",
       "21      0.796490  0.245884  0.762705  0.328082  0.388435  0.386261  0.777793   \n",
       "22      0.179640  0.075008  0.133731  0.625513  0.394864  0.247160  0.299044   \n",
       "23      0.531108  0.878320  0.972818  0.927387  0.467920  0.757676  0.384251   \n",
       "24      0.363449  0.059429  0.931686  0.571170  0.734205  0.467315  0.934377   \n",
       "25      0.521176  0.009974  0.425588  0.589351  0.536432  0.630568  0.495958   \n",
       "26      0.322414  0.064944  0.729219  0.970835  0.520762  0.012811  0.595764   \n",
       "27      0.608884  0.740154  0.944091  0.139186  0.173084  0.299686  0.795480   \n",
       "28      0.287405  0.634454  0.077170  0.323236  0.746830  0.828545  0.709338   \n",
       "29      0.704428  0.613937  0.332954  0.473490  0.878554  0.947570  0.437574   \n",
       "...          ...       ...       ...       ...       ...       ...       ...   \n",
       "548121  0.905667  0.368906  0.269027  0.731519  0.443344  0.178146  0.069793   \n",
       "548122  0.411662  0.900080  0.378649  0.642338  0.821374  0.407923  0.733239   \n",
       "548123  0.087594  0.848848  0.417853  0.904373  0.293770  0.288073  0.347718   \n",
       "548124  0.940247  0.224456  0.782147  0.733532  0.083149  0.956453  0.608609   \n",
       "548125  0.208459  0.743115  0.717545  0.339082  0.092053  0.792684  0.263771   \n",
       "548126  0.616994  0.534530  0.255756  0.886942 -0.014705  0.168849  0.229028   \n",
       "548127  0.243693  0.205980  0.545747  0.108657  0.925811  0.475467  0.409529   \n",
       "548128  0.988406  0.766827  0.817065  0.070373  0.278271  0.126628  0.137179   \n",
       "548129  0.459660  0.023405  0.507663  0.901215  0.098110  0.166525  0.294192   \n",
       "548130  0.046049  0.578221  0.161689  0.103134  0.222890  0.264017  0.686975   \n",
       "548131  0.984678  0.021634  0.744448  0.745373  0.278947  0.813796  0.877368   \n",
       "548132  0.435529  0.634967  0.185250  0.705760  0.861063  0.842770  0.932577   \n",
       "548133  0.134584  0.621025  0.843816  0.278381  0.784620  0.750763  0.933798   \n",
       "548134  0.012151  0.362114  0.783618  0.740654  0.446722  0.605771  0.870764   \n",
       "548135  0.473817  0.057636  0.249380  0.517245  0.538832  0.099192  0.620200   \n",
       "548136  0.770217  0.123648  0.115665  0.957667  0.171364  0.463401  0.913005   \n",
       "548137  0.901031  0.236212  0.971871  0.697435  0.980226  0.299459  0.472861   \n",
       "548138  0.827165  0.730264  0.096988  0.018745  0.619863  0.335234  0.311430   \n",
       "548139  0.966657  0.783262  0.274257  0.025301  0.353140  0.040364  0.235136   \n",
       "548140  0.056292  0.915934  0.134394  0.615556  0.698997  0.014971  0.841650   \n",
       "548141  0.415210  0.569378  0.822829  0.347265  0.622562  0.046362  0.709175   \n",
       "548142  0.063463  0.112967  0.385705  0.254533  0.188189  0.024760  0.960675   \n",
       "548143  0.988406  0.766827  0.817065  0.070373  0.278271  0.126628  0.137179   \n",
       "548144  0.851575  0.828467  0.107959  0.872750  0.400092  0.216996  0.972646   \n",
       "548145  0.621035  0.372389  0.893491  0.951221  0.426842  0.428927  0.730887   \n",
       "548146  0.050741  0.167083  0.547252  0.525306  0.157047  0.338245  0.812677   \n",
       "548147  0.907242  0.068556  0.593762  0.767009  0.043762  0.031121  0.393156   \n",
       "548148  0.642953  0.551284  0.316754  0.309823  0.115156  0.708868  0.332290   \n",
       "548149  0.879723  0.862531  0.442131  0.310117  0.696512  0.720176  0.432413   \n",
       "548150  0.372973  0.272693  0.323805  0.166002  0.967118  0.185356  0.751039   \n",
       "\n",
       "        U_repr_7  U_repr_8  U_repr_9    ...      I_repr_21  I_repr_22  \\\n",
       "0       0.973086  0.050642  0.776217    ...       0.519292   0.051649   \n",
       "1       0.353378  0.718098  0.909792    ...       0.715712   0.272394   \n",
       "2       0.901214  0.780850  0.206379    ...       0.175539   0.980366   \n",
       "3       0.467233  0.795600  0.707143    ...       0.099362   0.324966   \n",
       "4       0.920108  0.425148  0.685081    ...       0.587688   0.230815   \n",
       "5       0.142549  0.251473  0.853334    ...       0.435556   0.666825   \n",
       "6       0.512058  0.296685  0.468960    ...       0.557436   0.879699   \n",
       "7       0.693726  0.377027  0.673582    ...       0.779821   0.702709   \n",
       "8       0.435168  0.951768  0.736976    ...       0.517617   0.105384   \n",
       "9       0.118112  0.936949  0.344386    ...       0.245170   0.083046   \n",
       "10      0.521985  0.472451  0.447735    ...       0.670680   0.175400   \n",
       "11      0.885226  0.003855  0.274819    ...       0.857626   0.752867   \n",
       "12      0.223318  0.734350  0.149364    ...       0.603584   0.755701   \n",
       "13      0.432299  0.482475  0.609125    ...       0.712982   0.706130   \n",
       "14      0.715858  0.843194  0.091820    ...       0.232359   0.522436   \n",
       "15      1.009829  0.064651  0.354707    ...       0.399838   0.578754   \n",
       "16      0.776710  0.100302  0.039544    ...       0.405698   0.225461   \n",
       "17      0.410827  0.557386  0.883923    ...       0.666106   0.319028   \n",
       "18      0.588510  0.759585  0.169540    ...       0.380374   0.104723   \n",
       "19      0.587656  0.697862  0.750254    ...       0.543556   0.165445   \n",
       "20      0.421425  0.540283  0.451647    ...       0.762032   0.452113   \n",
       "21      0.224596  0.243155  0.789291    ...       0.878399   0.590320   \n",
       "22      0.048715  0.365336  0.169609    ...       0.545044   0.147440   \n",
       "23      0.268742  0.536124  0.364414    ...       0.350971   0.340117   \n",
       "24      0.673233  0.269701  0.778610    ...       0.678464  -0.036251   \n",
       "25      0.709053  0.207387  0.784702    ...       0.548509   0.081772   \n",
       "26      0.453910  0.210935  0.041923    ...       0.400106   0.673287   \n",
       "27      0.821206  0.129482  0.651720    ...       0.384674   0.670166   \n",
       "28      0.674352  0.783270  0.168748    ...       0.350193   0.683718   \n",
       "29      0.023945  0.018379  0.191036    ...       0.703866   0.558475   \n",
       "...          ...       ...       ...    ...            ...        ...   \n",
       "548121  0.422651  0.791562  0.770200    ...       0.375023   0.815926   \n",
       "548122  0.004660  0.771132  0.234112    ...       0.423716   0.277990   \n",
       "548123  0.904085  0.966277  0.943214    ...       0.299950   0.940723   \n",
       "548124  0.432311  0.047566  0.019526    ...       0.457810   0.540529   \n",
       "548125  0.241264  0.405234  0.149842    ...       0.863040   0.557266   \n",
       "548126  0.462680  0.024614  0.271712    ...       0.038990   0.495206   \n",
       "548127  0.179294  0.719524  0.234087    ...       0.272819   0.738230   \n",
       "548128  0.132564  0.713201  0.945833    ...       0.755083   0.595140   \n",
       "548129  0.840631  0.141506  0.238226    ...       0.814114   0.612471   \n",
       "548130  0.753865  0.741877  0.539177    ...       0.854273   0.299032   \n",
       "548131  0.097667  0.113149  0.436864    ...       0.958663   0.081476   \n",
       "548132  0.892734  0.136645  0.344990    ...       0.733257   0.562578   \n",
       "548133  0.891705  0.670582  0.097471    ...       0.350971   0.340117   \n",
       "548134  0.278995  0.900189  0.826434    ...       0.434253   0.559090   \n",
       "548135  0.616978  0.193353  0.242846    ...       0.648924   0.130094   \n",
       "548136 -0.006964  0.102816  0.258464    ...       0.948791   0.453903   \n",
       "548137  0.512807  0.218613  0.749289    ...       0.320113   0.782698   \n",
       "548138  0.542400  0.194505  0.845694    ...      -0.110029   0.694946   \n",
       "548139  0.363405  0.254478  0.731265    ...       0.784423   0.658917   \n",
       "548140  0.680246  0.471074  0.320232    ...       0.761333   0.585262   \n",
       "548141  0.335389  0.074441  0.917042    ...       0.042928   0.361685   \n",
       "548142  0.287118  0.951582  0.458840    ...       0.470969   0.947335   \n",
       "548143  0.132564  0.713201  0.945833    ...       0.396439   0.085371   \n",
       "548144  0.930505  0.178562  0.701628    ...       0.792445   0.712786   \n",
       "548145  0.326976  0.375220  0.880054    ...       0.465679   0.597454   \n",
       "548146  0.152091  0.192379  0.436463    ...       0.127929   0.273698   \n",
       "548147  0.688155  0.065606  0.091405    ...       0.992550   0.966592   \n",
       "548148  0.855254  0.737141  0.532639    ...       0.102662   0.188623   \n",
       "548149  0.954028  0.150244  0.013858    ...       0.256223   0.138856   \n",
       "548150  0.122082  0.776255  0.651588    ...       0.576113   0.976850   \n",
       "\n",
       "        I_repr_23  I_repr_24  I_repr_25  I_repr_26  I_repr_27  I_repr_28  \\\n",
       "0        0.607856   0.688086   0.181325   0.039791   0.537033   0.635758   \n",
       "1        0.702153   0.448264  -0.025882   0.203838   0.724286   0.531448   \n",
       "2        0.067079   0.221175   0.780759   0.858320   0.645577   0.628580   \n",
       "3        0.342550   0.183293   0.860795   0.355197   0.818201   0.642858   \n",
       "4        0.343582   0.875288   0.379667  -0.033253   0.603276   0.749696   \n",
       "5        0.239913   0.293641   0.293746   0.511353   0.326978   0.618164   \n",
       "6        0.358299   0.118096   0.785606   0.945393   0.126177   0.061572   \n",
       "7       -0.020214   0.580304   0.874335   0.651586  -0.050605   0.350931   \n",
       "8        0.631562   0.919217   0.153353   0.367011   0.752438   0.980166   \n",
       "9        0.334397   0.985642   0.563998   0.699906   0.226575   0.211909   \n",
       "10       0.110496   0.553050   0.369083   0.787028   0.360520   0.027672   \n",
       "11       0.828243   0.331839   0.193142   0.354904   0.374091   0.443754   \n",
       "12       0.146153   0.045827   0.364775   0.635664  -0.059590   0.786571   \n",
       "13       0.699950   0.098800   0.651457   0.658877   0.666513  -0.182550   \n",
       "14       0.732247   0.548842   0.594630   0.750851   0.107848   0.380144   \n",
       "15       0.029583   0.661569   0.957175   0.182269   0.249927   0.917784   \n",
       "16       0.935848   0.033215   0.365703   0.674169   1.007894   0.286851   \n",
       "17       0.675681   0.691927   0.555440   0.673399   0.151327   0.119857   \n",
       "18       0.819753   0.317590   0.509041   0.492341   0.590441   0.421091   \n",
       "19       0.204747   0.920416   0.257814   0.204141   0.434575   0.935244   \n",
       "20       0.723948  -0.002877   0.428957   0.576017   0.692628   0.133671   \n",
       "21       0.580608   0.012640   0.934166   0.090365   0.032219   0.430705   \n",
       "22       0.670589  -0.016103   0.271524   0.457500   0.673844   0.799962   \n",
       "23       0.610571   0.489147   0.620224   0.171287   0.707865   0.512296   \n",
       "24       0.807174   0.232996   0.863644  -0.054359   0.417227   0.744429   \n",
       "25       0.264913   0.835776   0.108289   0.166532   0.540069   0.992428   \n",
       "26       0.528599   0.597640   0.603518   0.649728   0.513218   0.461131   \n",
       "27       0.492934   0.532165   0.042486   0.287263   0.413762   0.031214   \n",
       "28       0.336548   0.455189   0.290871   0.726173   0.392295   0.734767   \n",
       "29       0.223494   0.578403   0.773490   0.347518   0.793886  -0.060605   \n",
       "...           ...        ...        ...        ...        ...        ...   \n",
       "548121   0.383089   0.128986   0.072531   0.729459   0.656428   0.200134   \n",
       "548122   0.287870   0.187128   0.175606   0.280479   0.826356   0.954332   \n",
       "548123   0.849239   0.092040   0.131110   0.391998   0.571669   0.123740   \n",
       "548124   0.770087   0.151000   0.258041   0.361195   0.157527   0.377014   \n",
       "548125   0.304818   0.855919   0.634768   0.499607   0.251517   0.353083   \n",
       "548126   0.367924   0.480698   0.381046   0.615007   0.578079   0.272825   \n",
       "548127   0.228681   0.180333   0.409047   0.762941   0.952783   0.935925   \n",
       "548128   0.888990   0.439494   0.159898   0.494313   0.545468   0.961002   \n",
       "548129   0.555048   0.325161   0.496742   0.344555   0.640795   0.021592   \n",
       "548130   0.832023   0.912789   0.279194   0.864597   0.067110   0.501521   \n",
       "548131   0.469651   0.496400   0.457603   0.894502   0.564689   0.325876   \n",
       "548132   0.647907   0.593425   0.033274   0.767390   0.915533  -0.007246   \n",
       "548133   0.610571   0.489147   0.620224   0.171287   0.707865   0.512296   \n",
       "548134   0.100445   0.089800   0.335309   0.010003   0.537154   0.583764   \n",
       "548135   0.408373   0.024712   0.642691   0.318508   0.475270   0.039142   \n",
       "548136   0.294029   0.584934   0.497810   0.022473   0.687595   0.498398   \n",
       "548137   0.475439   0.538030   0.194003   0.433778   0.686091   0.815702   \n",
       "548138   0.240759   0.293010   0.667924   0.145305   0.259250   0.307367   \n",
       "548139   0.301657   0.662127   0.126720   0.222149   0.597158   0.627164   \n",
       "548140   0.513022   0.869637   0.963963   0.034783   0.794235   0.258952   \n",
       "548141   0.801557   0.328616   0.422822  -0.025460   0.884915   0.825687   \n",
       "548142   0.876672   0.605856   0.207401   0.754855   0.529177   0.464004   \n",
       "548143   0.991275   0.752331   0.299952   0.990254   0.382201   0.450421   \n",
       "548144   0.931025  -0.023099   0.270881   0.717834   0.506692   0.371852   \n",
       "548145   0.637414   0.123626   0.332165   0.255182   0.806289   0.400373   \n",
       "548146   0.326555   0.082336   0.904622   0.875443   0.620423   0.076158   \n",
       "548147   0.812891   0.149944   0.260183   0.683958   0.493611   0.021205   \n",
       "548148   0.901872   0.408423   0.407139   0.623934   0.676226   0.347073   \n",
       "548149   0.684023   0.365697   0.057678   0.934219   0.640901   0.674837   \n",
       "548150   0.214439   0.291315   0.864476   0.075994   0.592571   0.663862   \n",
       "\n",
       "        I_repr_29  I_repr_30  \n",
       "0        0.373915   0.784999  \n",
       "1        0.034788   0.644715  \n",
       "2        0.570290   0.923085  \n",
       "3        0.734898   0.806569  \n",
       "4       -0.019381   0.844270  \n",
       "5        0.376432   0.695856  \n",
       "6        0.506879   0.558122  \n",
       "7        0.263674   0.331525  \n",
       "8        0.084884   0.075941  \n",
       "9        0.874451   0.945193  \n",
       "10      -0.056266   0.694839  \n",
       "11       0.656157   0.039830  \n",
       "12       0.280036  -0.001525  \n",
       "13       0.269128   0.683456  \n",
       "14       0.618753   0.830713  \n",
       "15       0.545194   0.872307  \n",
       "16       0.204580   0.272714  \n",
       "17       0.719426   0.256421  \n",
       "18       0.943928   0.809377  \n",
       "19       0.291302   0.925717  \n",
       "20       0.330066   0.312919  \n",
       "21       0.385612   0.226569  \n",
       "22       0.624540   0.281005  \n",
       "23       0.779139   0.081187  \n",
       "24       0.709489   0.658849  \n",
       "25       0.856707   0.278692  \n",
       "26       0.021411   0.235760  \n",
       "27       0.629299   0.848126  \n",
       "28       0.559972   0.124427  \n",
       "29       0.682214   0.764214  \n",
       "...           ...        ...  \n",
       "548121   0.955495   0.392951  \n",
       "548122   0.293135   0.840035  \n",
       "548123   0.052798   0.294214  \n",
       "548124   0.618021   0.839291  \n",
       "548125   0.933417   0.937746  \n",
       "548126   0.667439   0.455035  \n",
       "548127   0.099374   0.839546  \n",
       "548128   0.873431   0.591314  \n",
       "548129   0.253969   0.940872  \n",
       "548130   0.021432  -0.021177  \n",
       "548131   0.915720   0.174986  \n",
       "548132   0.047368   0.839129  \n",
       "548133   0.779139   0.081187  \n",
       "548134   0.427928   0.344844  \n",
       "548135   0.254416   0.946535  \n",
       "548136   0.202987   0.797707  \n",
       "548137   0.370251   0.513669  \n",
       "548138   0.501687   0.569696  \n",
       "548139   0.729148   0.752554  \n",
       "548140   0.077437   0.037574  \n",
       "548141   0.505575   0.788698  \n",
       "548142   0.362139   0.108028  \n",
       "548143   0.431334   0.272534  \n",
       "548144   0.936184   0.757974  \n",
       "548145   0.699391   0.919959  \n",
       "548146   0.705124   0.359589  \n",
       "548147   0.560645   0.579143  \n",
       "548148   0.810436   0.908069  \n",
       "548149   0.114204   0.874790  \n",
       "548150   0.888712   0.228451  \n",
       "\n",
       "[548151 rows x 62 columns]"
      ]
     },
     "execution_count": 33,
     "metadata": {},
     "output_type": "execute_result"
    }
   ],
   "source": [
    "Class_train[['user_id','item_id']] = pd.DataFrame(Class_train[0].values.tolist(), index= Class_train.index)\n",
    "Class_train[col] = pd.DataFrame(Class_train[1].values.tolist(), index= Class_train.index)\n",
    "Class_train.iloc[:,4:]"
   ]
  },
  {
   "cell_type": "code",
   "execution_count": 34,
   "metadata": {
    "collapsed": true
   },
   "outputs": [],
   "source": [
    "Class_train=pd.merge(Class_train,Y_train_click,how=\"left\",on=[\"user_id\",\"item_id\"])"
   ]
  },
  {
   "cell_type": "code",
   "execution_count": 35,
   "metadata": {},
   "outputs": [
    {
     "data": {
      "text/plain": [
       "LogisticRegressionCV(Cs=10, class_weight='balanced', cv=None, dual=False,\n",
       "           fit_intercept=True, intercept_scaling=1.0, max_iter=100,\n",
       "           multi_class='ovr', n_jobs=1, penalty='l2', random_state=None,\n",
       "           refit=True, scoring=None, solver='lbfgs', tol=0.0001, verbose=0)"
      ]
     },
     "execution_count": 35,
     "metadata": {},
     "output_type": "execute_result"
    }
   ],
   "source": [
    "lr = LogisticRegressionCV(penalty='l2',class_weight='balanced')\n",
    "lr.fit(Class_train.iloc[:,4:-1], Class_train.iloc[:,-1]) "
   ]
  },
  {
   "cell_type": "code",
   "execution_count": 46,
   "metadata": {},
   "outputs": [
    {
     "data": {
      "application/vnd.jupyter.widget-view+json": {
       "model_id": "5392f7f92be54cbba755ffc8d4f21d5a",
       "version_major": 2,
       "version_minor": 0
      },
      "text/plain": [
       "A Jupyter Widget"
      ]
     },
     "metadata": {},
     "output_type": "display_data"
    },
    {
     "name": "stdout",
     "output_type": "stream",
     "text": [
      "\n"
     ]
    }
   ],
   "source": [
    "Y_test_click_dic={}\n",
    "for i in tqdm_notebook(xrange(len(Y_test_click))):\n",
    "    Y_test_click_dic[Y_test_click.user_id[i],Y_test_click.item_id[i]]=Y_test_click.iloc[i,2]\n",
    "    "
   ]
  },
  {
   "cell_type": "code",
   "execution_count": 49,
   "metadata": {
    "collapsed": true,
    "scrolled": true
   },
   "outputs": [],
   "source": [
    "X_final=X_test_std"
   ]
  },
  {
   "cell_type": "code",
   "execution_count": 51,
   "metadata": {},
   "outputs": [
    {
     "data": {
      "application/vnd.jupyter.widget-view+json": {
       "model_id": "3ea69fce364744f69799d8cfab5519ae",
       "version_major": 2,
       "version_minor": 0
      },
      "text/plain": [
       "A Jupyter Widget"
      ]
     },
     "metadata": {},
     "output_type": "display_data"
    },
    {
     "name": "stdout",
     "output_type": "stream",
     "text": [
      "\n"
     ]
    },
    {
     "name": "stderr",
     "output_type": "stream",
     "text": [
      "Exception in thread Thread-44:\n",
      "Traceback (most recent call last):\n",
      "  File \"/Users/amirasarbaev/anaconda2/lib/python2.7/threading.py\", line 801, in __bootstrap_inner\n",
      "    self.run()\n",
      "  File \"/Users/amirasarbaev/anaconda2/lib/python2.7/site-packages/tqdm/_monitor.py\", line 63, in run\n",
      "    for instance in self.tqdm_cls._instances:\n",
      "  File \"/Users/amirasarbaev/anaconda2/lib/python2.7/_weakrefset.py\", line 60, in __iter__\n",
      "    for itemref in self.data:\n",
      "RuntimeError: Set changed size during iteration\n",
      "\n"
     ]
    }
   ],
   "source": [
    "Class={}\n",
    "for i in tqdm_notebook(range(len(X_final))):\n",
    "    try:\n",
    "        Class[X_final.user_id[i],X_final.item_id[i]]=U_repr[X_final.user_id[i]]+\\\n",
    "        I_repr[X_final.item_id[i]]+\\\n",
    "        [Y_test_click_dic[X_final.user_id[i],X_final.item_id[i]]]\n",
    "    except:\n",
    "        Class[X_final.user_id[i],X_final.item_id[i]]=U_repr[X_final.user_id[i]]+\\\n",
    "        random_items[X_final.item_id.values.tolist()[i]]+\\\n",
    "        [Y_test_click_dic[X_final.user_id[i],X_final.item_id[i]]]\n",
    "       "
   ]
  },
  {
   "cell_type": "code",
   "execution_count": null,
   "metadata": {
    "collapsed": true
   },
   "outputs": [],
   "source": [
    "col=col+['Y_test_click']"
   ]
  },
  {
   "cell_type": "code",
   "execution_count": null,
   "metadata": {
    "collapsed": true,
    "scrolled": true
   },
   "outputs": [],
   "source": [
    "Class_final=pd.DataFrame(Class.items())\n",
    "Class_final[['user_id','item_id']] = pd.DataFrame(Class_final[0].values.tolist(), index= Class_final.index)\n",
    "Class_final[col] = pd.DataFrame(Class_final[1].values.tolist(), index= Class_final.index)\n",
    "Class_final"
   ]
  },
  {
   "cell_type": "code",
   "execution_count": null,
   "metadata": {
    "collapsed": true
   },
   "outputs": [],
   "source": [
    "Y_pred=lr.predict(Class_final.iloc[:,4:-1])\n",
    "print(classification_report(Class_final.iloc[:,-1], Y_pred))\n",
    "confusion_matrix(Class_final.iloc[:,-1], Y_pred)"
   ]
  },
  {
   "cell_type": "code",
   "execution_count": null,
   "metadata": {
    "collapsed": true
   },
   "outputs": [],
   "source": [
    "false_positive_rate, recall, thresholds = roc_curve(Y_pred,Class_final.iloc[:,-1])\n",
    "roc_auc = auc(false_positive_rate, recall)\n",
    "plt.title('Receiver Operating Characteristic')\n",
    "plt.plot(false_positive_rate, recall, 'b', label='AUC = %0.2f' % roc_auc)\n",
    "plt.legend(loc='lower right')\n",
    "plt.plot([0, 1], [0, 1], 'r--')\n",
    "plt.xlim([0.0, 1.0])\n",
    "plt.ylim([0.0, 1.0])\n",
    "plt.ylabel('Recall')\n",
    "plt.xlabel('Fall-out')\n",
    "plt.show()"
   ]
  },
  {
   "cell_type": "code",
   "execution_count": null,
   "metadata": {
    "collapsed": true
   },
   "outputs": [],
   "source": []
  }
 ],
 "metadata": {
  "kernelspec": {
   "display_name": "Python 2",
   "language": "python",
   "name": "python2"
  },
  "language_info": {
   "codemirror_mode": {
    "name": "ipython",
    "version": 2
   },
   "file_extension": ".py",
   "mimetype": "text/x-python",
   "name": "python",
   "nbconvert_exporter": "python",
   "pygments_lexer": "ipython2",
   "version": "2.7.14"
  }
 },
 "nbformat": 4,
 "nbformat_minor": 2
}
