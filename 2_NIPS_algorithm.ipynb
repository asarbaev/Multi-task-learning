{
 "cells": [
  {
   "cell_type": "code",
   "execution_count": null,
   "metadata": {
    "collapsed": true
   },
   "outputs": [],
   "source": [
    "import sys\n",
    "import csv\n",
    "import time\n",
    "import itertools\n",
    "import numpy as np\n",
    "import pandas as pd\n",
    "from tqdm import tqdm\n",
    "from tqdm import tqdm_notebook\n",
    "from scipy.sparse import csr_matrix\n",
    "from sklearn.neighbors import NearestNeighbors\n",
    "from scipy import spatial\n",
    "import datetime\n",
    "import ipdb\n",
    "#Here we are going to implement algorithm which was described in the NIPS article \n",
    "#\"Collaborative Ranking With 17 Parameters\"\n",
    "#Input: target_list\n",
    "#Output: 15 extracted statistical features\n",
    "\n",
    "\n",
    "#pt - path to the directory of the provided dataset\n",
    "#neigh - number of nearest neighbors \n",
    "#st - path to the directory where you want to save the file\n",
    "def NIPS_alg(pt,neigh,st):\n",
    "    target_list=pd.read_csv( str(pt)+\"/1_target_list.csv\" , sep=',' )\n",
    "    print(\"number of uniq users_int\",target_list.groupby(\"user_id\").count().shape[0])\n",
    "    print(\"number of uniq offers_int\",target_list.groupby(\"item_id\").count().shape[0])\n",
    "    #convert structure [user_id,item_id,displayed,type of inter, week]  to [user_id\titem_id\tdisplayed\tclick\tbook\treply]\n",
    "    sort=target_list.groupby(['user_id','item_id','displayed'])['interaction_type'].apply(lambda x: set(x)).reset_index()\n",
    "    sort.interaction_type = sort.interaction_type.apply(list)\n",
    "    sort=sort.set_index('user_id')\n",
    "    sort['click']=0\n",
    "    sort['book']=0\n",
    "    sort['reply']=0\n",
    "    #sort= u_id,it_id, int_type={1,2,3}\n",
    "    sort['click']=sort['interaction_type'].apply(lambda x: 1 if any([i==1 for i in x])== True else 0 )\n",
    "    sort['book']=sort['interaction_type'].apply(lambda x: 1 if any([i==2 for i in x])== True else 0 )\n",
    "    sort['reply']=sort['interaction_type'].apply(lambda x: 1 if any([i==3 for i in x])== True else 0 )\n",
    "    sort=sort[['item_id','displayed','click','book','reply']]\n",
    "    \n",
    "    matr=target_list.groupby(['user_id','item_id','displayed'])['interaction_type'].apply(lambda x: sum(list(set(x)))).reset_index() \n",
    "    #matr= u_id,it_id, int_type={6=1,2,3}{4=1,0,3}\n",
    "    nmatr=pd.DataFrame.copy(matr)\n",
    "    nmatr.interaction_type = np.where( nmatr.interaction_type > 1 , 1 , nmatr.interaction_type )\n",
    "    \n",
    "    person_u = list(sorted(nmatr.user_id.unique()))\n",
    "    thing_u = list(sorted(nmatr.item_id.unique()))\n",
    "\n",
    "    data = nmatr['interaction_type'].tolist()\n",
    "    row = nmatr.user_id.astype('category', categories=person_u).cat.codes\n",
    "    col = nmatr.item_id.astype('category', categories=thing_u).cat.codes\n",
    "    sparse_matrix = csr_matrix((data, (row, col)), shape=(len(person_u), len(thing_u)))\n",
    "\n",
    "    model_kNN = NearestNeighbors(algorithm='auto',metric='cosine',n_neighbors=neigh,p=2).fit(sparse_matrix)\n",
    "    distances,indices=model_kNN.kneighbors(sparse_matrix)\n",
    "    indices[:,0] = range(0,indices.shape[0])\n",
    "    for i in range(len(indices)):\n",
    "        for j in range (len(indices[i])):\n",
    "            indices[i][j]=person_u[indices[i][j]] \n",
    "\n",
    "    n_df=pd.DataFrame([indices[:,0], pd.Series(indices[:,1:].tolist())]).T.set_index(0)\n",
    "    n_df.index.names = ['user_id']\n",
    "    n_df.columns=['neighbors']\n",
    "    matr=matr.set_index('user_id')\n",
    "    matr=matr.join(n_df, how='outer')\n",
    "    FINAL=[]\n",
    "    for i in  tqdm_notebook(range (len(matr))):\n",
    "        win=[]\n",
    "        los=[]\n",
    "        tie=[]\n",
    "        WINLOSTIE=[]\n",
    "        target_it=matr.iloc[i,0]\n",
    "        target_us=matr.index[i]\n",
    "        for j in range (len(matr.iloc[i,3])):\n",
    "            win_counter=0\n",
    "            los_counter=0\n",
    "            tie_counter=0\n",
    "            neigh_us=matr.iloc[i,3][j]\n",
    "    #         print(\"neigh_us\",neigh_us)\n",
    "            target_list=matr[matr.index==neigh_us]\n",
    "    #         print(\"list\",target_list)\n",
    "            if len(target_list[target_list['item_id']==target_it]['interaction_type'].values)==0:\n",
    "                win_counter,los_counter,tie_counter=0,0,0\n",
    "            else:\n",
    "                target_score=int(target_list[target_list['item_id']==target_it]['interaction_type'])\n",
    "                for score in target_list['interaction_type']:\n",
    "                    if target_score == score:\n",
    "                        tie_counter+=1\n",
    "                    elif target_score >score:\n",
    "                        win_counter+=1\n",
    "                    else:\n",
    "                        los_counter+=1\n",
    "                tie_counter-=1 #because we compared target_score with itself  \n",
    "                total_count=win_counter+tie_counter+los_counter\n",
    "    #             ipdb.set_trace()\n",
    "    #             print(\"neigh\",neigh_us,\"target_score\",target_score,\"marl\",marl,\"win\",win_counter,\"los\",los_counter,\"tie\",tie_counter)\n",
    "                win_counter=float(win_counter)/total_count\n",
    "                los_counter=float(los_counter)/total_count\n",
    "                tie_counter=float(tie_counter)/total_count\n",
    "    #         print(\"neigh\",neigh_us,\"dev\",total_count)    \n",
    "            WINLOSTIE.extend((win_counter,los_counter,tie_counter))\n",
    "\n",
    "        WINLOSTIE=np.reshape(WINLOSTIE, (-1, 3)).T\n",
    "    #     print(WINLOSTIE)\n",
    "        win.extend([round(np.mean(WINLOSTIE[0]),4),round(np.var(WINLOSTIE[0]),4),round(np.max(WINLOSTIE[0]),4),round(np.min(WINLOSTIE[0]),4),round(float(np.count_nonzero(WINLOSTIE[0]))/50,4)])\n",
    "        los.extend([round(np.mean(WINLOSTIE[1]),4),round(np.var(WINLOSTIE[1]),4),round(np.max(WINLOSTIE[1]),4),round(np.min(WINLOSTIE[1]),4),round(float(np.count_nonzero(WINLOSTIE[1]))/50,4)])\n",
    "        tie.extend([round(np.mean(WINLOSTIE[2]),4),round(np.var(WINLOSTIE[2]),4),round(np.max(WINLOSTIE[2]),4),round(np.min(WINLOSTIE[2]),4),round(float(np.count_nonzero(WINLOSTIE[2]))/50,4)])\n",
    "        FINAL.extend((target_us,win,los,tie))\n",
    "    FINAL=np.array(FINAL,dtype=object)    \n",
    "    FINAL=np.reshape(FINAL,(-1,4))\n",
    "    FINAL= pd.DataFrame(FINAL).set_index(0)\n",
    "    FINAL.index.names = ['user_id']\n",
    "    FINAL.columns = ['WIN', 'LOS','TIE']\n",
    "    sort_last=pd.concat([sort, FINAL], axis=1)\n",
    "    sort_last.to_csv(str(st)+\"/final_sorted_50.csv\")\n",
    "    return sort_last"
   ]
  },
  {
   "cell_type": "code",
   "execution_count": null,
   "metadata": {},
   "outputs": [
    {
     "name": "stdout",
     "output_type": "stream",
     "text": [
      "('number of uniq users_int', 5949)\n",
      "('number of uniq offers_int', 27136)\n"
     ]
    },
    {
     "data": {
      "application/vnd.jupyter.widget-view+json": {
       "model_id": "e4ef9a3c3be24e2b863fbf823cfa71f2",
       "version_major": 2,
       "version_minor": 0
      },
      "text/plain": [
       "A Jupyter Widget"
      ]
     },
     "metadata": {},
     "output_type": "display_data"
    }
   ],
   "source": [
    "NIPS_alg(\"/Users/amirasarbaev/Desktop\",15,\"/Users/amirasarbaev/Desktop\")"
   ]
  },
  {
   "cell_type": "code",
   "execution_count": null,
   "metadata": {
    "collapsed": true
   },
   "outputs": [],
   "source": []
  }
 ],
 "metadata": {
  "kernelspec": {
   "display_name": "Python 2",
   "language": "python",
   "name": "python2"
  },
  "language_info": {
   "codemirror_mode": {
    "name": "ipython",
    "version": 2
   },
   "file_extension": ".py",
   "mimetype": "text/x-python",
   "name": "python",
   "nbconvert_exporter": "python",
   "pygments_lexer": "ipython2",
   "version": "2.7.14"
  }
 },
 "nbformat": 4,
 "nbformat_minor": 2
}
