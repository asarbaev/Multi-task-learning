{
 "cells": [
  {
   "cell_type": "code",
   "execution_count": 9,
   "metadata": {
    "collapsed": true
   },
   "outputs": [],
   "source": [
    "import sys\n",
    "import csv\n",
    "import time\n",
    "import itertools\n",
    "import numpy as np\n",
    "import pandas as pd\n",
    "from tqdm import tqdm\n",
    "from tqdm import tqdm_notebook\n",
    "from sklearn.neighbors import NearestNeighbors\n",
    "from scipy import spatial\n",
    "import datetime\n",
    "from sklearn.linear_model import LogisticRegression\n",
    "from ast import literal_eval\n",
    "from sklearn import preprocessing"
   ]
  },
  {
   "cell_type": "code",
   "execution_count": 10,
   "metadata": {
    "collapsed": true
   },
   "outputs": [],
   "source": [
    "def contextual(pt,st):\n",
    "    df=pd.read_csv( str(pt) + '/final_sorted_50.csv' , header=0,sep=',' )\n",
    "    df=df.set_index('user_id')\n",
    "    #remove zero rows \n",
    "    df=df[(df.f1+df.f2+df.f3+df.f4+df.f5+df.f6+df.f7+df.f8 +df.f9 +df.f10 +df.f11+df.f12+df.f13 +df.f14 +df.f15 != 0)]\n",
    "    #preparation of contextual features for users\n",
    "    df_us=pd.read_csv('/Users/amirasarbaev/Downloads/Internship/data/users.csv',header=0,sep='\\t')\n",
    "    df_us['career_level'].fillna(0, inplace=True)\n",
    "    df_us['region'].fillna(0, inplace=True)\n",
    "    df_us['experience_n_entries_class'].fillna(0, inplace=True)\n",
    "    df_us['experience_years_experience'].fillna(0, inplace=True)\n",
    "    df_us['experience_years_in_current'].fillna(0, inplace=True)\n",
    "    df_us['edu_degree'].fillna(0, inplace=True)\n",
    "    df_us['edu_fieldofstudies'].fillna(0, inplace=True)\n",
    "    df_us=df_us.set_index('id')\n",
    "    df_us.index.names = ['user_id']\n",
    "    df_us[\"country\"] = df_us[\"country\"].astype('category')\n",
    "    df_us[\"country\"] = df_us[\"country\"].cat.codes\n",
    "    df_us=df_us[['career_level','discipline_id','industry_id','country','region','experience_n_entries_class','experience_years_experience','experience_years_in_current','edu_degree']]\n",
    "    #we are going to merget statistical features with users contextual\n",
    "    df=pd.merge(df, df_us, left_index=True, right_index=True)\n",
    "    #preparation of contextual features for items\n",
    "    df_it=pd.read_csv('/Users/amirasarbaev/Downloads/Internship/data/items.csv',header=0,sep='\\t')\n",
    "    df_it.fillna(0, inplace=True)\n",
    "    df_it=df_it.set_index('id')\n",
    "    df_it.index.names = ['item_id'] \n",
    "    df_it[\"country\"] = df_it[\"country\"].astype('category')\n",
    "    df_it[\"country_cat\"]= df_it[\"country\"].cat.codes\n",
    "    df_it=df_it[['career_level','discipline_id','industry_id','country_cat','region','employment','active_during_test']]\n",
    "    #we are going to merget statistical features with offers contextual\n",
    "    df=pd.merge(df, df_it, left_on='item_id', right_index=True)\n",
    "    df.to_csv(str(st) + \"/3_final_dataset.csv\")\n",
    "    return df"
   ]
  },
  {
   "cell_type": "code",
   "execution_count": 11,
   "metadata": {
    "collapsed": true
   },
   "outputs": [],
   "source": [
    "contextual(\"/Users/amirasarbaev/Desktop\",\"/Users/amirasarbaev/Desktop\")"
   ]
  },
  {
   "cell_type": "code",
   "execution_count": null,
   "metadata": {
    "collapsed": true
   },
   "outputs": [],
   "source": []
  }
 ],
 "metadata": {
  "kernelspec": {
   "display_name": "Python 2",
   "language": "python",
   "name": "python2"
  },
  "language_info": {
   "codemirror_mode": {
    "name": "ipython",
    "version": 2
   },
   "file_extension": ".py",
   "mimetype": "text/x-python",
   "name": "python",
   "nbconvert_exporter": "python",
   "pygments_lexer": "ipython2",
   "version": "2.7.14"
  }
 },
 "nbformat": 4,
 "nbformat_minor": 2
}
